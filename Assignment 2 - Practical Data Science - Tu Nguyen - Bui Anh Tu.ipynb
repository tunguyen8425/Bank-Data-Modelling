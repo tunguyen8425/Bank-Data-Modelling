{
 "cells": [
  {
   "cell_type": "code",
   "execution_count": 1,
   "metadata": {},
   "outputs": [],
   "source": [
    "#import libraries\n",
    "import pandas as pd\n",
    "import matplotlib.pyplot as plt\n",
    "import seaborn as sns\n",
    "import numpy as np\n",
    "import urllib2\n",
    "import scipy\n",
    "from pandas import read_csv\n",
    "from sklearn.model_selection import KFold\n",
    "from sklearn.model_selection import cross_val_score\n",
    "from sklearn.model_selection import train_test_split"
   ]
  },
  {
   "cell_type": "markdown",
   "metadata": {},
   "source": [
    "# Task 1: Data Retrieving "
   ]
  },
  {
   "cell_type": "code",
   "execution_count": 2,
   "metadata": {},
   "outputs": [
    {
     "name": "stdout",
     "output_type": "stream",
     "text": [
      "<class 'pandas.core.frame.DataFrame'>\n"
     ]
    }
   ],
   "source": [
    "bank_p = 'bank-full.csv'\n",
    "bank = pd.read_csv(bank_p,\n",
    "                  sep=';', \n",
    "                  decimal='.', \n",
    "                  header=0)\n",
    "\n",
    "fake_bank = bank.copy()\n",
    "print type(fake_bank)"
   ]
  },
  {
   "cell_type": "code",
   "execution_count": 3,
   "metadata": {},
   "outputs": [
    {
     "data": {
      "text/plain": [
       "Index([u'age', u'job', u'marital', u'education', u'default', u'balance',\n",
       "       u'housing', u'loan', u'contact', u'day', u'month', u'duration',\n",
       "       u'campaign', u'pdays', u'previous', u'poutcome', u'y'],\n",
       "      dtype='object')"
      ]
     },
     "execution_count": 3,
     "metadata": {},
     "output_type": "execute_result"
    }
   ],
   "source": [
    "fake_bank.columns\n"
   ]
  },
  {
   "cell_type": "code",
   "execution_count": 4,
   "metadata": {},
   "outputs": [
    {
     "name": "stdout",
     "output_type": "stream",
     "text": [
      "Number of rows and columns: (45211, 17)\n",
      "Bank marketing dataset has 45211 rows.\n"
     ]
    }
   ],
   "source": [
    "print 'Number of rows and columns:', fake_bank.shape\n",
    "print(\"Bank marketing dataset has {rows} rows.\".format(rows = len(fake_bank)))"
   ]
  },
  {
   "cell_type": "code",
   "execution_count": 5,
   "metadata": {
    "scrolled": true
   },
   "outputs": [
    {
     "data": {
      "text/html": [
       "<div>\n",
       "<style scoped>\n",
       "    .dataframe tbody tr th:only-of-type {\n",
       "        vertical-align: middle;\n",
       "    }\n",
       "\n",
       "    .dataframe tbody tr th {\n",
       "        vertical-align: top;\n",
       "    }\n",
       "\n",
       "    .dataframe thead th {\n",
       "        text-align: right;\n",
       "    }\n",
       "</style>\n",
       "<table border=\"1\" class=\"dataframe\">\n",
       "  <thead>\n",
       "    <tr style=\"text-align: right;\">\n",
       "      <th></th>\n",
       "      <th>age</th>\n",
       "      <th>job</th>\n",
       "      <th>marital</th>\n",
       "      <th>education</th>\n",
       "      <th>default</th>\n",
       "      <th>balance</th>\n",
       "      <th>housing</th>\n",
       "      <th>loan</th>\n",
       "      <th>contact</th>\n",
       "      <th>day</th>\n",
       "      <th>month</th>\n",
       "      <th>duration</th>\n",
       "      <th>campaign</th>\n",
       "      <th>pdays</th>\n",
       "      <th>previous</th>\n",
       "      <th>poutcome</th>\n",
       "      <th>y</th>\n",
       "    </tr>\n",
       "  </thead>\n",
       "  <tbody>\n",
       "    <tr>\n",
       "      <th>0</th>\n",
       "      <td>58</td>\n",
       "      <td>management</td>\n",
       "      <td>married</td>\n",
       "      <td>tertiary</td>\n",
       "      <td>no</td>\n",
       "      <td>2143</td>\n",
       "      <td>yes</td>\n",
       "      <td>no</td>\n",
       "      <td>unknown</td>\n",
       "      <td>5</td>\n",
       "      <td>may</td>\n",
       "      <td>261</td>\n",
       "      <td>1</td>\n",
       "      <td>-1</td>\n",
       "      <td>0</td>\n",
       "      <td>unknown</td>\n",
       "      <td>no</td>\n",
       "    </tr>\n",
       "    <tr>\n",
       "      <th>1</th>\n",
       "      <td>44</td>\n",
       "      <td>technician</td>\n",
       "      <td>single</td>\n",
       "      <td>secondary</td>\n",
       "      <td>no</td>\n",
       "      <td>29</td>\n",
       "      <td>yes</td>\n",
       "      <td>no</td>\n",
       "      <td>unknown</td>\n",
       "      <td>5</td>\n",
       "      <td>may</td>\n",
       "      <td>151</td>\n",
       "      <td>1</td>\n",
       "      <td>-1</td>\n",
       "      <td>0</td>\n",
       "      <td>unknown</td>\n",
       "      <td>no</td>\n",
       "    </tr>\n",
       "    <tr>\n",
       "      <th>2</th>\n",
       "      <td>33</td>\n",
       "      <td>entrepreneur</td>\n",
       "      <td>married</td>\n",
       "      <td>secondary</td>\n",
       "      <td>no</td>\n",
       "      <td>2</td>\n",
       "      <td>yes</td>\n",
       "      <td>yes</td>\n",
       "      <td>unknown</td>\n",
       "      <td>5</td>\n",
       "      <td>may</td>\n",
       "      <td>76</td>\n",
       "      <td>1</td>\n",
       "      <td>-1</td>\n",
       "      <td>0</td>\n",
       "      <td>unknown</td>\n",
       "      <td>no</td>\n",
       "    </tr>\n",
       "    <tr>\n",
       "      <th>3</th>\n",
       "      <td>47</td>\n",
       "      <td>blue-collar</td>\n",
       "      <td>married</td>\n",
       "      <td>unknown</td>\n",
       "      <td>no</td>\n",
       "      <td>1506</td>\n",
       "      <td>yes</td>\n",
       "      <td>no</td>\n",
       "      <td>unknown</td>\n",
       "      <td>5</td>\n",
       "      <td>may</td>\n",
       "      <td>92</td>\n",
       "      <td>1</td>\n",
       "      <td>-1</td>\n",
       "      <td>0</td>\n",
       "      <td>unknown</td>\n",
       "      <td>no</td>\n",
       "    </tr>\n",
       "    <tr>\n",
       "      <th>4</th>\n",
       "      <td>33</td>\n",
       "      <td>unknown</td>\n",
       "      <td>single</td>\n",
       "      <td>unknown</td>\n",
       "      <td>no</td>\n",
       "      <td>1</td>\n",
       "      <td>no</td>\n",
       "      <td>no</td>\n",
       "      <td>unknown</td>\n",
       "      <td>5</td>\n",
       "      <td>may</td>\n",
       "      <td>198</td>\n",
       "      <td>1</td>\n",
       "      <td>-1</td>\n",
       "      <td>0</td>\n",
       "      <td>unknown</td>\n",
       "      <td>no</td>\n",
       "    </tr>\n",
       "  </tbody>\n",
       "</table>\n",
       "</div>"
      ],
      "text/plain": [
       "   age           job  marital  education default  balance housing loan  \\\n",
       "0   58    management  married   tertiary      no     2143     yes   no   \n",
       "1   44    technician   single  secondary      no       29     yes   no   \n",
       "2   33  entrepreneur  married  secondary      no        2     yes  yes   \n",
       "3   47   blue-collar  married    unknown      no     1506     yes   no   \n",
       "4   33       unknown   single    unknown      no        1      no   no   \n",
       "\n",
       "   contact  day month  duration  campaign  pdays  previous poutcome   y  \n",
       "0  unknown    5   may       261         1     -1         0  unknown  no  \n",
       "1  unknown    5   may       151         1     -1         0  unknown  no  \n",
       "2  unknown    5   may        76         1     -1         0  unknown  no  \n",
       "3  unknown    5   may        92         1     -1         0  unknown  no  \n",
       "4  unknown    5   may       198         1     -1         0  unknown  no  "
      ]
     },
     "execution_count": 5,
     "metadata": {},
     "output_type": "execute_result"
    }
   ],
   "source": [
    "#checking whether the loaded data is equivalent to the data in the source CSV file\n",
    "fake_bank.head()"
   ]
  },
  {
   "cell_type": "code",
   "execution_count": 6,
   "metadata": {},
   "outputs": [
    {
     "data": {
      "text/html": [
       "<div>\n",
       "<style scoped>\n",
       "    .dataframe tbody tr th:only-of-type {\n",
       "        vertical-align: middle;\n",
       "    }\n",
       "\n",
       "    .dataframe tbody tr th {\n",
       "        vertical-align: top;\n",
       "    }\n",
       "\n",
       "    .dataframe thead th {\n",
       "        text-align: right;\n",
       "    }\n",
       "</style>\n",
       "<table border=\"1\" class=\"dataframe\">\n",
       "  <thead>\n",
       "    <tr style=\"text-align: right;\">\n",
       "      <th></th>\n",
       "      <th>age</th>\n",
       "      <th>balance</th>\n",
       "      <th>day</th>\n",
       "      <th>duration</th>\n",
       "      <th>campaign</th>\n",
       "      <th>pdays</th>\n",
       "      <th>previous</th>\n",
       "    </tr>\n",
       "  </thead>\n",
       "  <tbody>\n",
       "    <tr>\n",
       "      <th>count</th>\n",
       "      <td>45211.000000</td>\n",
       "      <td>45211.000000</td>\n",
       "      <td>45211.000000</td>\n",
       "      <td>45211.000000</td>\n",
       "      <td>45211.000000</td>\n",
       "      <td>45211.000000</td>\n",
       "      <td>45211.000000</td>\n",
       "    </tr>\n",
       "    <tr>\n",
       "      <th>mean</th>\n",
       "      <td>40.936210</td>\n",
       "      <td>1362.272058</td>\n",
       "      <td>15.806419</td>\n",
       "      <td>258.163080</td>\n",
       "      <td>2.763841</td>\n",
       "      <td>40.197828</td>\n",
       "      <td>0.580323</td>\n",
       "    </tr>\n",
       "    <tr>\n",
       "      <th>std</th>\n",
       "      <td>10.618762</td>\n",
       "      <td>3044.765829</td>\n",
       "      <td>8.322476</td>\n",
       "      <td>257.527812</td>\n",
       "      <td>3.098021</td>\n",
       "      <td>100.128746</td>\n",
       "      <td>2.303441</td>\n",
       "    </tr>\n",
       "    <tr>\n",
       "      <th>min</th>\n",
       "      <td>18.000000</td>\n",
       "      <td>-8019.000000</td>\n",
       "      <td>1.000000</td>\n",
       "      <td>0.000000</td>\n",
       "      <td>1.000000</td>\n",
       "      <td>-1.000000</td>\n",
       "      <td>0.000000</td>\n",
       "    </tr>\n",
       "    <tr>\n",
       "      <th>25%</th>\n",
       "      <td>33.000000</td>\n",
       "      <td>72.000000</td>\n",
       "      <td>8.000000</td>\n",
       "      <td>103.000000</td>\n",
       "      <td>1.000000</td>\n",
       "      <td>-1.000000</td>\n",
       "      <td>0.000000</td>\n",
       "    </tr>\n",
       "    <tr>\n",
       "      <th>50%</th>\n",
       "      <td>39.000000</td>\n",
       "      <td>448.000000</td>\n",
       "      <td>16.000000</td>\n",
       "      <td>180.000000</td>\n",
       "      <td>2.000000</td>\n",
       "      <td>-1.000000</td>\n",
       "      <td>0.000000</td>\n",
       "    </tr>\n",
       "    <tr>\n",
       "      <th>75%</th>\n",
       "      <td>48.000000</td>\n",
       "      <td>1428.000000</td>\n",
       "      <td>21.000000</td>\n",
       "      <td>319.000000</td>\n",
       "      <td>3.000000</td>\n",
       "      <td>-1.000000</td>\n",
       "      <td>0.000000</td>\n",
       "    </tr>\n",
       "    <tr>\n",
       "      <th>max</th>\n",
       "      <td>95.000000</td>\n",
       "      <td>102127.000000</td>\n",
       "      <td>31.000000</td>\n",
       "      <td>4918.000000</td>\n",
       "      <td>63.000000</td>\n",
       "      <td>871.000000</td>\n",
       "      <td>275.000000</td>\n",
       "    </tr>\n",
       "  </tbody>\n",
       "</table>\n",
       "</div>"
      ],
      "text/plain": [
       "                age        balance           day      duration      campaign  \\\n",
       "count  45211.000000   45211.000000  45211.000000  45211.000000  45211.000000   \n",
       "mean      40.936210    1362.272058     15.806419    258.163080      2.763841   \n",
       "std       10.618762    3044.765829      8.322476    257.527812      3.098021   \n",
       "min       18.000000   -8019.000000      1.000000      0.000000      1.000000   \n",
       "25%       33.000000      72.000000      8.000000    103.000000      1.000000   \n",
       "50%       39.000000     448.000000     16.000000    180.000000      2.000000   \n",
       "75%       48.000000    1428.000000     21.000000    319.000000      3.000000   \n",
       "max       95.000000  102127.000000     31.000000   4918.000000     63.000000   \n",
       "\n",
       "              pdays      previous  \n",
       "count  45211.000000  45211.000000  \n",
       "mean      40.197828      0.580323  \n",
       "std      100.128746      2.303441  \n",
       "min       -1.000000      0.000000  \n",
       "25%       -1.000000      0.000000  \n",
       "50%       -1.000000      0.000000  \n",
       "75%       -1.000000      0.000000  \n",
       "max      871.000000    275.000000  "
      ]
     },
     "execution_count": 6,
     "metadata": {},
     "output_type": "execute_result"
    }
   ],
   "source": [
    "fake_bank.describe()"
   ]
  },
  {
   "cell_type": "code",
   "execution_count": 7,
   "metadata": {},
   "outputs": [
    {
     "name": "stdout",
     "output_type": "stream",
     "text": [
      "<class 'pandas.core.frame.DataFrame'>\n",
      "RangeIndex: 45211 entries, 0 to 45210\n",
      "Data columns (total 17 columns):\n",
      "age          45211 non-null int64\n",
      "job          45211 non-null object\n",
      "marital      45211 non-null object\n",
      "education    45211 non-null object\n",
      "default      45211 non-null object\n",
      "balance      45211 non-null int64\n",
      "housing      45211 non-null object\n",
      "loan         45211 non-null object\n",
      "contact      45211 non-null object\n",
      "day          45211 non-null int64\n",
      "month        45211 non-null object\n",
      "duration     45211 non-null int64\n",
      "campaign     45211 non-null int64\n",
      "pdays        45211 non-null int64\n",
      "previous     45211 non-null int64\n",
      "poutcome     45211 non-null object\n",
      "y            45211 non-null object\n",
      "dtypes: int64(7), object(10)\n",
      "memory usage: 5.9+ MB\n"
     ]
    }
   ],
   "source": [
    "fake_bank.info()"
   ]
  },
  {
   "cell_type": "code",
   "execution_count": 8,
   "metadata": {},
   "outputs": [
    {
     "data": {
      "text/plain": [
       "age           int64\n",
       "job          object\n",
       "marital      object\n",
       "education    object\n",
       "default      object\n",
       "balance       int64\n",
       "housing      object\n",
       "loan         object\n",
       "contact      object\n",
       "day           int64\n",
       "month        object\n",
       "duration      int64\n",
       "campaign      int64\n",
       "pdays         int64\n",
       "previous      int64\n",
       "poutcome     object\n",
       "y            object\n",
       "dtype: object"
      ]
     },
     "execution_count": 8,
     "metadata": {},
     "output_type": "execute_result"
    }
   ],
   "source": [
    "fake_bank.dtypes"
   ]
  },
  {
   "cell_type": "code",
   "execution_count": 9,
   "metadata": {},
   "outputs": [
    {
     "data": {
      "text/plain": [
       "Index([], dtype='object')"
      ]
     },
     "execution_count": 9,
     "metadata": {},
     "output_type": "execute_result"
    }
   ],
   "source": [
    "#check missing values\n",
    "fake_bank.columns[fake_bank.isnull().any()]"
   ]
  },
  {
   "cell_type": "markdown",
   "metadata": {},
   "source": [
    "# Data Exploration"
   ]
  },
  {
   "cell_type": "markdown",
   "metadata": {},
   "source": [
    "## 1) Pie chart to show the distribution of y ( term deposit ) :"
   ]
  },
  {
   "cell_type": "code",
   "execution_count": 10,
   "metadata": {
    "scrolled": true
   },
   "outputs": [
    {
     "data": {
      "text/plain": [
       "<function matplotlib.pyplot.show>"
      ]
     },
     "execution_count": 10,
     "metadata": {},
     "output_type": "execute_result"
    },
    {
     "data": {
      "image/png": "[encoded data removed]",
      "text/plain": [
       "<Figure size 500x500 with 1 Axes>"
      ]
     },
     "metadata": {},
     "output_type": "display_data"
    }
   ],
   "source": [
    "import matplotlib.pyplot as plt\n",
    "fig = plt.figure(figsize=(5,5), dpi=100)\n",
    "fake_bank['y'].value_counts().plot(kind='pie', autopct='%1.1f%%',fontsize=10).axis('equal')\n",
    "plt.show"
   ]
  },
  {
   "cell_type": "markdown",
   "metadata": {},
   "source": [
    "## 2) Pie chart to show the distribution of default :"
   ]
  },
  {
   "cell_type": "code",
   "execution_count": 11,
   "metadata": {},
   "outputs": [
    {
     "data": {
      "text/plain": [
       "<function matplotlib.pyplot.show>"
      ]
     },
     "execution_count": 11,
     "metadata": {},
     "output_type": "execute_result"
    },
    {
     "data": {
      "image/png": "[encoded data removed]",
      "text/plain": [
       "<Figure size 500x500 with 1 Axes>"
      ]
     },
     "metadata": {},
     "output_type": "display_data"
    }
   ],
   "source": [
    "fig = plt.figure(figsize=(5,5), dpi=100)\n",
    "fake_bank['default'].value_counts().plot(kind='pie', autopct='%1.1f%%',fontsize=10).axis('equal')\n",
    "plt.show"
   ]
  },
  {
   "cell_type": "markdown",
   "metadata": {},
   "source": [
    "## 3) Pie chart to show the distribution of housing :"
   ]
  },
  {
   "cell_type": "code",
   "execution_count": 12,
   "metadata": {},
   "outputs": [
    {
     "data": {
      "text/plain": [
       "<function matplotlib.pyplot.show>"
      ]
     },
     "execution_count": 12,
     "metadata": {},
     "output_type": "execute_result"
    },
    {
     "data": {
      "image/png": "[encoded data removed]",
      "text/plain": [
       "<Figure size 500x500 with 1 Axes>"
      ]
     },
     "metadata": {},
     "output_type": "display_data"
    }
   ],
   "source": [
    "fig = plt.figure(figsize=(5,5), dpi=100)\n",
    "fake_bank['housing'].value_counts().plot(kind='pie', autopct='%1.1f%%',fontsize=10).axis('equal')\n",
    "plt.show"
   ]
  },
  {
   "cell_type": "markdown",
   "metadata": {},
   "source": [
    "## 4) Pie chart to show the distribution of loan:"
   ]
  },
  {
   "cell_type": "code",
   "execution_count": 13,
   "metadata": {},
   "outputs": [
    {
     "data": {
      "text/plain": [
       "<function matplotlib.pyplot.show>"
      ]
     },
     "execution_count": 13,
     "metadata": {},
     "output_type": "execute_result"
    },
    {
     "data": {
      "image/png": "[encoded data removed]",
      "text/plain": [
       "<Figure size 500x500 with 1 Axes>"
      ]
     },
     "metadata": {},
     "output_type": "display_data"
    }
   ],
   "source": [
    "fig = plt.figure(figsize=(5,5), dpi=100)\n",
    "fake_bank['loan'].value_counts().plot(kind='pie', autopct='%1.1f%%',fontsize=10).axis('equal')\n",
    "plt.show"
   ]
  },
  {
   "cell_type": "markdown",
   "metadata": {},
   "source": [
    "## 5) Bar chart to show the distribution of job:\n"
   ]
  },
  {
   "cell_type": "code",
   "execution_count": 14,
   "metadata": {
    "scrolled": true
   },
   "outputs": [
    {
     "data": {
      "text/plain": [
       "Text(0.5,1,'THE DISTRIBUTION OF JOB')"
      ]
     },
     "execution_count": 14,
     "metadata": {},
     "output_type": "execute_result"
    },
    {
     "data": {
      "image/png": "[encoded data removed]",
      "text/plain": [
       "<Figure size 1440x576 with 1 Axes>"
      ]
     },
     "metadata": {
      "needs_background": "light"
     },
     "output_type": "display_data"
    }
   ],
   "source": [
    "plt.figure(figsize=(20,8))\n",
    "sns.countplot(x ='job',data = fake_bank)\n",
    "plt.ylabel('Number of People')\n",
    "plt.title('THE DISTRIBUTION OF JOB')"
   ]
  },
  {
   "cell_type": "markdown",
   "metadata": {},
   "source": [
    "## 6) Bar chart to show the distribution of marital:"
   ]
  },
  {
   "cell_type": "code",
   "execution_count": 15,
   "metadata": {
    "scrolled": true
   },
   "outputs": [
    {
     "data": {
      "text/plain": [
       "Text(0.5,1,'Marital Status')"
      ]
     },
     "execution_count": 15,
     "metadata": {},
     "output_type": "execute_result"
    },
    {
     "data": {
      "image/png": "[encoded data removed]",
      "text/plain": [
       "<Figure size 432x288 with 1 Axes>"
      ]
     },
     "metadata": {
      "needs_background": "light"
     },
     "output_type": "display_data"
    }
   ],
   "source": [
    "sns.countplot(x='marital', data=fake_bank)\n",
    "plt.ylabel('Marital status data')\n",
    "plt.title('Marital Status')"
   ]
  },
  {
   "cell_type": "markdown",
   "metadata": {},
   "source": [
    "## 7) Bar chart to show the distribution of education:\n"
   ]
  },
  {
   "cell_type": "code",
   "execution_count": 16,
   "metadata": {},
   "outputs": [
    {
     "data": {
      "text/plain": [
       "Text(0.5,1,'Academic Level')"
      ]
     },
     "execution_count": 16,
     "metadata": {},
     "output_type": "execute_result"
    },
    {
     "data": {
      "image/png": "[encoded data removed]",
      "text/plain": [
       "<Figure size 432x288 with 1 Axes>"
      ]
     },
     "metadata": {
      "needs_background": "light"
     },
     "output_type": "display_data"
    }
   ],
   "source": [
    "sns.countplot(x='education', data=fake_bank)\n",
    "plt.ylabel('Number of people')\n",
    "plt.title('Academic Level')"
   ]
  },
  {
   "cell_type": "markdown",
   "metadata": {},
   "source": [
    "## 8) Bar chart to show the distribution of contact:\n"
   ]
  },
  {
   "cell_type": "code",
   "execution_count": 17,
   "metadata": {},
   "outputs": [
    {
     "data": {
      "text/plain": [
       "Text(0.5,1,'Contact Communication Type')"
      ]
     },
     "execution_count": 17,
     "metadata": {},
     "output_type": "execute_result"
    },
    {
     "data": {
      "image/png": "[encoded data removed]",
      "text/plain": [
       "<Figure size 432x288 with 1 Axes>"
      ]
     },
     "metadata": {
      "needs_background": "light"
     },
     "output_type": "display_data"
    }
   ],
   "source": [
    "sns.countplot(x='contact', data=fake_bank)\n",
    "plt.ylabel('Number of contacts')\n",
    "plt.title('Contact Communication Type')"
   ]
  },
  {
   "cell_type": "markdown",
   "metadata": {},
   "source": [
    "## 9) Bar chart to show the distribution of month:\n"
   ]
  },
  {
   "cell_type": "code",
   "execution_count": 18,
   "metadata": {},
   "outputs": [
    {
     "data": {
      "text/plain": [
       "Text(0.5,1,'Last Contact Month Of Year')"
      ]
     },
     "execution_count": 18,
     "metadata": {},
     "output_type": "execute_result"
    },
    {
     "data": {
      "image/png": "[encoded data removed]",
      "text/plain": [
       "<Figure size 432x288 with 1 Axes>"
      ]
     },
     "metadata": {
      "needs_background": "light"
     },
     "output_type": "display_data"
    }
   ],
   "source": [
    "sns.countplot(x='month', data=fake_bank)\n",
    "plt.ylabel('Statistic of mobth')\n",
    "plt.title('Last Contact Month Of Year')"
   ]
  },
  {
   "cell_type": "markdown",
   "metadata": {},
   "source": [
    "## 10) Bar chart to show the distribution of poutcome:\n"
   ]
  },
  {
   "cell_type": "code",
   "execution_count": 19,
   "metadata": {},
   "outputs": [
    {
     "data": {
      "text/plain": [
       "Text(0.5,1,'Outcome Of The Previous Marketing Campaign')"
      ]
     },
     "execution_count": 19,
     "metadata": {},
     "output_type": "execute_result"
    },
    {
     "data": {
      "image/png": "[encoded data removed]",
      "text/plain": [
       "<Figure size 432x288 with 1 Axes>"
      ]
     },
     "metadata": {
      "needs_background": "light"
     },
     "output_type": "display_data"
    }
   ],
   "source": [
    "sns.countplot(x='poutcome', data=fake_bank)\n",
    "plt.ylabel('Count')\n",
    "plt.title('Outcome Of The Previous Marketing Campaign')"
   ]
  },
  {
   "cell_type": "markdown",
   "metadata": {},
   "source": [
    "## 11) Numerical column"
   ]
  },
  {
   "cell_type": "code",
   "execution_count": 20,
   "metadata": {},
   "outputs": [
    {
     "data": {
      "image/png": "[encoded data removed]",
      "text/plain": [
       "<Figure size 1440x1440 with 9 Axes>"
      ]
     },
     "metadata": {
      "needs_background": "light"
     },
     "output_type": "display_data"
    }
   ],
   "source": [
    "header = ['age', 'balance', 'day', 'duration', 'campaign', 'pdays', 'previous']\n",
    "fake_bank.hist(column=header,figsize=(20,20))\n",
    "plt.subplots_adjust(wspace = 0.5, hspace = 0.5)\n",
    "plt.show()"
   ]
  },
  {
   "cell_type": "markdown",
   "metadata": {},
   "source": [
    "## 12) 10 pairs of attributes"
   ]
  },
  {
   "cell_type": "code",
   "execution_count": 21,
   "metadata": {},
   "outputs": [
    {
     "data": {
      "text/html": [
       "<div>\n",
       "<style scoped>\n",
       "    .dataframe tbody tr th:only-of-type {\n",
       "        vertical-align: middle;\n",
       "    }\n",
       "\n",
       "    .dataframe tbody tr th {\n",
       "        vertical-align: top;\n",
       "    }\n",
       "\n",
       "    .dataframe thead th {\n",
       "        text-align: right;\n",
       "    }\n",
       "</style>\n",
       "<table border=\"1\" class=\"dataframe\">\n",
       "  <thead>\n",
       "    <tr style=\"text-align: right;\">\n",
       "      <th></th>\n",
       "      <th>age</th>\n",
       "      <th>balance</th>\n",
       "      <th>day</th>\n",
       "      <th>duration</th>\n",
       "      <th>campaign</th>\n",
       "      <th>pdays</th>\n",
       "      <th>previous</th>\n",
       "    </tr>\n",
       "  </thead>\n",
       "  <tbody>\n",
       "    <tr>\n",
       "      <th>age</th>\n",
       "      <td>1.000000</td>\n",
       "      <td>0.065226</td>\n",
       "      <td>-0.006681</td>\n",
       "      <td>-0.022444</td>\n",
       "      <td>0.027816</td>\n",
       "      <td>-0.013679</td>\n",
       "      <td>-0.009518</td>\n",
       "    </tr>\n",
       "    <tr>\n",
       "      <th>balance</th>\n",
       "      <td>0.065226</td>\n",
       "      <td>1.000000</td>\n",
       "      <td>0.001242</td>\n",
       "      <td>0.028586</td>\n",
       "      <td>-0.022924</td>\n",
       "      <td>0.054180</td>\n",
       "      <td>0.062863</td>\n",
       "    </tr>\n",
       "    <tr>\n",
       "      <th>day</th>\n",
       "      <td>-0.006681</td>\n",
       "      <td>0.001242</td>\n",
       "      <td>1.000000</td>\n",
       "      <td>-0.039337</td>\n",
       "      <td>0.105353</td>\n",
       "      <td>-0.072813</td>\n",
       "      <td>-0.070418</td>\n",
       "    </tr>\n",
       "    <tr>\n",
       "      <th>duration</th>\n",
       "      <td>-0.022444</td>\n",
       "      <td>0.028586</td>\n",
       "      <td>-0.039337</td>\n",
       "      <td>1.000000</td>\n",
       "      <td>-0.079976</td>\n",
       "      <td>0.022478</td>\n",
       "      <td>0.024689</td>\n",
       "    </tr>\n",
       "    <tr>\n",
       "      <th>campaign</th>\n",
       "      <td>0.027816</td>\n",
       "      <td>-0.022924</td>\n",
       "      <td>0.105353</td>\n",
       "      <td>-0.079976</td>\n",
       "      <td>1.000000</td>\n",
       "      <td>-0.096802</td>\n",
       "      <td>-0.094371</td>\n",
       "    </tr>\n",
       "    <tr>\n",
       "      <th>pdays</th>\n",
       "      <td>-0.013679</td>\n",
       "      <td>0.054180</td>\n",
       "      <td>-0.072813</td>\n",
       "      <td>0.022478</td>\n",
       "      <td>-0.096802</td>\n",
       "      <td>1.000000</td>\n",
       "      <td>0.902709</td>\n",
       "    </tr>\n",
       "    <tr>\n",
       "      <th>previous</th>\n",
       "      <td>-0.009518</td>\n",
       "      <td>0.062863</td>\n",
       "      <td>-0.070418</td>\n",
       "      <td>0.024689</td>\n",
       "      <td>-0.094371</td>\n",
       "      <td>0.902709</td>\n",
       "      <td>1.000000</td>\n",
       "    </tr>\n",
       "  </tbody>\n",
       "</table>\n",
       "</div>"
      ],
      "text/plain": [
       "               age   balance       day  duration  campaign     pdays  previous\n",
       "age       1.000000  0.065226 -0.006681 -0.022444  0.027816 -0.013679 -0.009518\n",
       "balance   0.065226  1.000000  0.001242  0.028586 -0.022924  0.054180  0.062863\n",
       "day      -0.006681  0.001242  1.000000 -0.039337  0.105353 -0.072813 -0.070418\n",
       "duration -0.022444  0.028586 -0.039337  1.000000 -0.079976  0.022478  0.024689\n",
       "campaign  0.027816 -0.022924  0.105353 -0.079976  1.000000 -0.096802 -0.094371\n",
       "pdays    -0.013679  0.054180 -0.072813  0.022478 -0.096802  1.000000  0.902709\n",
       "previous -0.009518  0.062863 -0.070418  0.024689 -0.094371  0.902709  1.000000"
      ]
     },
     "execution_count": 21,
     "metadata": {},
     "output_type": "execute_result"
    }
   ],
   "source": [
    "#find the correlation among the columns in the dataframe using ‘Pearson’ method.\n",
    "fake_bank.corr(method ='kendall') "
   ]
  },
  {
   "cell_type": "code",
   "execution_count": 22,
   "metadata": {},
   "outputs": [
    {
     "data": {
      "image/png": "[encoded data removed]",
      "text/plain": [
       "<Figure size 1440x288 with 3 Axes>"
      ]
     },
     "metadata": {
      "needs_background": "light"
     },
     "output_type": "display_data"
    }
   ],
   "source": [
    "#0 is no\n",
    "# 1 is yes\n",
    "\n",
    "plt.figure(figsize=[20,4])\n",
    "plt.subplot(1,3,1)\n",
    "sns.countplot(x='marital', hue='y', data=fake_bank,palette=\"Paired\")\n",
    "plt.subplot(1,3,2)\n",
    "sns.countplot(x='education', hue='y', data=fake_bank,palette=\"Paired\")\n",
    "plt.subplot(1,3,3)\n",
    "sns.countplot(x='month', hue='y', data=fake_bank,palette=\"Paired\")\n",
    "plt.show()"
   ]
  },
  {
   "cell_type": "markdown",
   "metadata": {},
   "source": [
    "Hypotheis\n",
    "Graph 1: Most of people who in married have the highest deposit and also the lowest deposit percentage in the graph. But most of customers less likely to have deposit.\n",
    "Graph 2: Most of people have education in tertiary have more deposit than others.\n",
    "Graph 3: Customers who has the last contact in May and July do not have deposit like others."
   ]
  },
  {
   "cell_type": "code",
   "execution_count": 23,
   "metadata": {},
   "outputs": [
    {
     "data": {
      "text/plain": [
       "<matplotlib.axes._subplots.AxesSubplot at 0x11933cf8>"
      ]
     },
     "execution_count": 23,
     "metadata": {},
     "output_type": "execute_result"
    },
    {
     "data": {
      "image/png": "[encoded data removed]",
      "text/plain": [
       "<Figure size 1440x288 with 3 Axes>"
      ]
     },
     "metadata": {
      "needs_background": "light"
     },
     "output_type": "display_data"
    }
   ],
   "source": [
    "#0 is no\n",
    "# 1 is yes\n",
    "\n",
    "plt.figure(figsize=[20,4])\n",
    "plt.subplot(1,3,1)\n",
    "sns.countplot(x='default', hue='y', data=fake_bank,palette=\"Paired\")\n",
    "#Most of people dont have credit, will not have deposit too.\n",
    "plt.subplot(1,3,2)\n",
    "sns.countplot(x='housing', hue='y', data=fake_bank,palette=\"Paired\")\n",
    "#People who have house, have less deposit\n",
    "plt.subplot(1,3,3)\n",
    "sns.countplot(x='loan', hue='y', data=fake_bank,palette=\"Paired\")"
   ]
  },
  {
   "cell_type": "code",
   "execution_count": 24,
   "metadata": {},
   "outputs": [],
   "source": [
    "####Hypothesis\n",
    "####Graph 1: People have credit, less likely to have deposit.\n",
    "####Graph 2: Customer have house, less likely to have deposit\n",
    "####Graph 3: Customer have loan, less likely to have deposit"
   ]
  },
  {
   "cell_type": "code",
   "execution_count": 25,
   "metadata": {},
   "outputs": [
    {
     "data": {
      "text/plain": [
       "<matplotlib.axes._subplots.AxesSubplot at 0x105e8320>"
      ]
     },
     "execution_count": 25,
     "metadata": {},
     "output_type": "execute_result"
    },
    {
     "data": {
      "image/png": "[encoded data removed]",
      "text/plain": [
       "<Figure size 432x288 with 1 Axes>"
      ]
     },
     "metadata": {
      "needs_background": "light"
     },
     "output_type": "display_data"
    }
   ],
   "source": [
    "#The relationship between age and term deposit (y)\n",
    "deposit = {\n",
    "    \"yes\": 1,\n",
    "    \"no\": 0\n",
    "}\n",
    "# Binary deposits 0 or 1.\n",
    "bin_deposits = fake_bank[\"y\"].map(deposit)\n",
    "sns.lineplot(x=\"age\", y=bin_deposits, data=fake_bank)\n",
    "\n",
    "#Most of the deposits (y) were made by who were 60 years or above."
   ]
  },
  {
   "cell_type": "code",
   "execution_count": 26,
   "metadata": {},
   "outputs": [],
   "source": [
    "#### Customer who is over 60 years old, likely to have deposit"
   ]
  },
  {
   "cell_type": "code",
   "execution_count": 27,
   "metadata": {},
   "outputs": [
    {
     "data": {
      "image/png": "[encoded data removed]",
      "text/plain": [
       "<Figure size 432x288 with 1 Axes>"
      ]
     },
     "metadata": {
      "needs_background": "light"
     },
     "output_type": "display_data"
    }
   ],
   "source": [
    "plt.scatter(fake_bank['age'], fake_bank['balance'], color='green')\n",
    "plt.title('The relationship between age and balance', fontsize=14)\n",
    "plt.xlabel('age', fontsize=14)\n",
    "plt.ylabel('balance', fontsize=14)\n",
    "plt.grid(True)\n",
    "plt.show()"
   ]
  },
  {
   "cell_type": "code",
   "execution_count": 28,
   "metadata": {},
   "outputs": [],
   "source": [
    "####Customer from 50 to 60 years old, have higher average yearly balance"
   ]
  },
  {
   "cell_type": "code",
   "execution_count": 29,
   "metadata": {},
   "outputs": [
    {
     "data": {
      "text/plain": [
       "<matplotlib.axes._subplots.AxesSubplot at 0x11a5eeb8>"
      ]
     },
     "execution_count": 29,
     "metadata": {},
     "output_type": "execute_result"
    },
    {
     "data": {
      "image/png": "[encoded data removed]",
      "text/plain": [
       "<Figure size 1800x720 with 1 Axes>"
      ]
     },
     "metadata": {
      "needs_background": "light"
     },
     "output_type": "display_data"
    }
   ],
   "source": [
    "plt.figure(figsize=(25,10))\n",
    "sns.countplot(x=\"job\", hue=\"y\", data=fake_bank)"
   ]
  },
  {
   "cell_type": "code",
   "execution_count": 30,
   "metadata": {},
   "outputs": [],
   "source": [
    "#### Customers with 'unknown' jobs are less likely to subscribe for term deposit. Moreover, customers in 'management' and 'services' likely to have deposi"
   ]
  },
  {
   "cell_type": "code",
   "execution_count": 31,
   "metadata": {},
   "outputs": [
    {
     "data": {
      "image/png": "[encoded data removed]",
      "text/plain": [
       "<Figure size 413.25x360 with 6 Axes>"
      ]
     },
     "metadata": {
      "needs_background": "light"
     },
     "output_type": "display_data"
    }
   ],
   "source": [
    "#Pairplot based on 'y' ( term deposit )\n",
    "#0 is no ( blue)\n",
    "# 1 is ye (orange)\n",
    "\n",
    "sns.pairplot(data=fake_bank, vars=['age', 'balance'], hue='y')\n",
    "plt.show()"
   ]
  },
  {
   "cell_type": "markdown",
   "metadata": {},
   "source": [
    "# Data Modelling ( Classification Task )"
   ]
  },
  {
   "cell_type": "markdown",
   "metadata": {},
   "source": [
    "## Feature Scaling"
   ]
  },
  {
   "cell_type": "code",
   "execution_count": 32,
   "metadata": {},
   "outputs": [
    {
     "data": {
      "text/plain": [
       "Index([u'age', u'job', u'marital', u'education', u'default', u'balance',\n",
       "       u'housing', u'loan', u'contact', u'day', u'month', u'duration',\n",
       "       u'campaign', u'pdays', u'previous', u'poutcome', u'y'],\n",
       "      dtype='object')"
      ]
     },
     "execution_count": 32,
     "metadata": {},
     "output_type": "execute_result"
    }
   ],
   "source": [
    "fake_bank.columns"
   ]
  },
  {
   "cell_type": "code",
   "execution_count": 33,
   "metadata": {},
   "outputs": [],
   "source": [
    "#convert yes - no to 1 - 0\n",
    "bool_col= ['default', 'housing', 'loan', 'y'] #columns that contain that contain yes/no value\n",
    "deposit = {\n",
    "    \"yes\": 1,\n",
    "    \"no\": 0\n",
    "}\n",
    "\n",
    "for i in bool_col:\n",
    "    fake_bank[i] = fake_bank[i].map(deposit)"
   ]
  },
  {
   "cell_type": "code",
   "execution_count": 34,
   "metadata": {},
   "outputs": [],
   "source": [
    "# Label encoder order is alphabetical\n",
    "from sklearn.preprocessing import LabelEncoder\n",
    "labelencoder_X = LabelEncoder()\n",
    "\n",
    "#Label encode categorical columns\n",
    "cat_col = ['job', 'marital', 'education', 'contact', 'poutcome', 'month']\n",
    "for i in cat_col:\n",
    "    fake_bank[i] = labelencoder_X.fit_transform(fake_bank[i])"
   ]
  },
  {
   "cell_type": "code",
   "execution_count": 35,
   "metadata": {},
   "outputs": [
    {
     "data": {
      "text/html": [
       "<div>\n",
       "<style scoped>\n",
       "    .dataframe tbody tr th:only-of-type {\n",
       "        vertical-align: middle;\n",
       "    }\n",
       "\n",
       "    .dataframe tbody tr th {\n",
       "        vertical-align: top;\n",
       "    }\n",
       "\n",
       "    .dataframe thead th {\n",
       "        text-align: right;\n",
       "    }\n",
       "</style>\n",
       "<table border=\"1\" class=\"dataframe\">\n",
       "  <thead>\n",
       "    <tr style=\"text-align: right;\">\n",
       "      <th></th>\n",
       "      <th>age</th>\n",
       "      <th>job</th>\n",
       "      <th>marital</th>\n",
       "      <th>education</th>\n",
       "      <th>default</th>\n",
       "      <th>balance</th>\n",
       "      <th>housing</th>\n",
       "      <th>loan</th>\n",
       "      <th>contact</th>\n",
       "      <th>day</th>\n",
       "      <th>month</th>\n",
       "      <th>duration</th>\n",
       "      <th>campaign</th>\n",
       "      <th>pdays</th>\n",
       "      <th>previous</th>\n",
       "      <th>poutcome</th>\n",
       "      <th>y</th>\n",
       "    </tr>\n",
       "  </thead>\n",
       "  <tbody>\n",
       "    <tr>\n",
       "      <th>0</th>\n",
       "      <td>58</td>\n",
       "      <td>4</td>\n",
       "      <td>1</td>\n",
       "      <td>2</td>\n",
       "      <td>0</td>\n",
       "      <td>2143</td>\n",
       "      <td>1</td>\n",
       "      <td>0</td>\n",
       "      <td>2</td>\n",
       "      <td>5</td>\n",
       "      <td>8</td>\n",
       "      <td>261</td>\n",
       "      <td>1</td>\n",
       "      <td>-1</td>\n",
       "      <td>0</td>\n",
       "      <td>3</td>\n",
       "      <td>0</td>\n",
       "    </tr>\n",
       "    <tr>\n",
       "      <th>1</th>\n",
       "      <td>44</td>\n",
       "      <td>9</td>\n",
       "      <td>2</td>\n",
       "      <td>1</td>\n",
       "      <td>0</td>\n",
       "      <td>29</td>\n",
       "      <td>1</td>\n",
       "      <td>0</td>\n",
       "      <td>2</td>\n",
       "      <td>5</td>\n",
       "      <td>8</td>\n",
       "      <td>151</td>\n",
       "      <td>1</td>\n",
       "      <td>-1</td>\n",
       "      <td>0</td>\n",
       "      <td>3</td>\n",
       "      <td>0</td>\n",
       "    </tr>\n",
       "    <tr>\n",
       "      <th>2</th>\n",
       "      <td>33</td>\n",
       "      <td>2</td>\n",
       "      <td>1</td>\n",
       "      <td>1</td>\n",
       "      <td>0</td>\n",
       "      <td>2</td>\n",
       "      <td>1</td>\n",
       "      <td>1</td>\n",
       "      <td>2</td>\n",
       "      <td>5</td>\n",
       "      <td>8</td>\n",
       "      <td>76</td>\n",
       "      <td>1</td>\n",
       "      <td>-1</td>\n",
       "      <td>0</td>\n",
       "      <td>3</td>\n",
       "      <td>0</td>\n",
       "    </tr>\n",
       "    <tr>\n",
       "      <th>3</th>\n",
       "      <td>47</td>\n",
       "      <td>1</td>\n",
       "      <td>1</td>\n",
       "      <td>3</td>\n",
       "      <td>0</td>\n",
       "      <td>1506</td>\n",
       "      <td>1</td>\n",
       "      <td>0</td>\n",
       "      <td>2</td>\n",
       "      <td>5</td>\n",
       "      <td>8</td>\n",
       "      <td>92</td>\n",
       "      <td>1</td>\n",
       "      <td>-1</td>\n",
       "      <td>0</td>\n",
       "      <td>3</td>\n",
       "      <td>0</td>\n",
       "    </tr>\n",
       "    <tr>\n",
       "      <th>4</th>\n",
       "      <td>33</td>\n",
       "      <td>11</td>\n",
       "      <td>2</td>\n",
       "      <td>3</td>\n",
       "      <td>0</td>\n",
       "      <td>1</td>\n",
       "      <td>0</td>\n",
       "      <td>0</td>\n",
       "      <td>2</td>\n",
       "      <td>5</td>\n",
       "      <td>8</td>\n",
       "      <td>198</td>\n",
       "      <td>1</td>\n",
       "      <td>-1</td>\n",
       "      <td>0</td>\n",
       "      <td>3</td>\n",
       "      <td>0</td>\n",
       "    </tr>\n",
       "  </tbody>\n",
       "</table>\n",
       "</div>"
      ],
      "text/plain": [
       "   age  job  marital  education  default  balance  housing  loan  contact  \\\n",
       "0   58    4        1          2        0     2143        1     0        2   \n",
       "1   44    9        2          1        0       29        1     0        2   \n",
       "2   33    2        1          1        0        2        1     1        2   \n",
       "3   47    1        1          3        0     1506        1     0        2   \n",
       "4   33   11        2          3        0        1        0     0        2   \n",
       "\n",
       "   day  month  duration  campaign  pdays  previous  poutcome  y  \n",
       "0    5      8       261         1     -1         0         3  0  \n",
       "1    5      8       151         1     -1         0         3  0  \n",
       "2    5      8        76         1     -1         0         3  0  \n",
       "3    5      8        92         1     -1         0         3  0  \n",
       "4    5      8       198         1     -1         0         3  0  "
      ]
     },
     "execution_count": 35,
     "metadata": {},
     "output_type": "execute_result"
    }
   ],
   "source": [
    "fake_bank.head()"
   ]
  },
  {
   "cell_type": "code",
   "execution_count": 36,
   "metadata": {},
   "outputs": [
    {
     "data": {
      "text/html": [
       "<div>\n",
       "<style scoped>\n",
       "    .dataframe tbody tr th:only-of-type {\n",
       "        vertical-align: middle;\n",
       "    }\n",
       "\n",
       "    .dataframe tbody tr th {\n",
       "        vertical-align: top;\n",
       "    }\n",
       "\n",
       "    .dataframe thead th {\n",
       "        text-align: right;\n",
       "    }\n",
       "</style>\n",
       "<table border=\"1\" class=\"dataframe\">\n",
       "  <thead>\n",
       "    <tr style=\"text-align: right;\">\n",
       "      <th></th>\n",
       "      <th>age</th>\n",
       "      <th>job</th>\n",
       "      <th>marital</th>\n",
       "      <th>education</th>\n",
       "      <th>default</th>\n",
       "      <th>balance</th>\n",
       "      <th>housing</th>\n",
       "      <th>loan</th>\n",
       "      <th>contact</th>\n",
       "      <th>day</th>\n",
       "      <th>month</th>\n",
       "      <th>duration</th>\n",
       "      <th>campaign</th>\n",
       "      <th>pdays</th>\n",
       "      <th>previous</th>\n",
       "      <th>poutcome</th>\n",
       "    </tr>\n",
       "  </thead>\n",
       "  <tbody>\n",
       "    <tr>\n",
       "      <th>0</th>\n",
       "      <td>58</td>\n",
       "      <td>4</td>\n",
       "      <td>1</td>\n",
       "      <td>2</td>\n",
       "      <td>0</td>\n",
       "      <td>2143</td>\n",
       "      <td>1</td>\n",
       "      <td>0</td>\n",
       "      <td>2</td>\n",
       "      <td>5</td>\n",
       "      <td>8</td>\n",
       "      <td>261</td>\n",
       "      <td>1</td>\n",
       "      <td>-1</td>\n",
       "      <td>0</td>\n",
       "      <td>3</td>\n",
       "    </tr>\n",
       "    <tr>\n",
       "      <th>1</th>\n",
       "      <td>44</td>\n",
       "      <td>9</td>\n",
       "      <td>2</td>\n",
       "      <td>1</td>\n",
       "      <td>0</td>\n",
       "      <td>29</td>\n",
       "      <td>1</td>\n",
       "      <td>0</td>\n",
       "      <td>2</td>\n",
       "      <td>5</td>\n",
       "      <td>8</td>\n",
       "      <td>151</td>\n",
       "      <td>1</td>\n",
       "      <td>-1</td>\n",
       "      <td>0</td>\n",
       "      <td>3</td>\n",
       "    </tr>\n",
       "    <tr>\n",
       "      <th>2</th>\n",
       "      <td>33</td>\n",
       "      <td>2</td>\n",
       "      <td>1</td>\n",
       "      <td>1</td>\n",
       "      <td>0</td>\n",
       "      <td>2</td>\n",
       "      <td>1</td>\n",
       "      <td>1</td>\n",
       "      <td>2</td>\n",
       "      <td>5</td>\n",
       "      <td>8</td>\n",
       "      <td>76</td>\n",
       "      <td>1</td>\n",
       "      <td>-1</td>\n",
       "      <td>0</td>\n",
       "      <td>3</td>\n",
       "    </tr>\n",
       "    <tr>\n",
       "      <th>3</th>\n",
       "      <td>47</td>\n",
       "      <td>1</td>\n",
       "      <td>1</td>\n",
       "      <td>3</td>\n",
       "      <td>0</td>\n",
       "      <td>1506</td>\n",
       "      <td>1</td>\n",
       "      <td>0</td>\n",
       "      <td>2</td>\n",
       "      <td>5</td>\n",
       "      <td>8</td>\n",
       "      <td>92</td>\n",
       "      <td>1</td>\n",
       "      <td>-1</td>\n",
       "      <td>0</td>\n",
       "      <td>3</td>\n",
       "    </tr>\n",
       "    <tr>\n",
       "      <th>4</th>\n",
       "      <td>33</td>\n",
       "      <td>11</td>\n",
       "      <td>2</td>\n",
       "      <td>3</td>\n",
       "      <td>0</td>\n",
       "      <td>1</td>\n",
       "      <td>0</td>\n",
       "      <td>0</td>\n",
       "      <td>2</td>\n",
       "      <td>5</td>\n",
       "      <td>8</td>\n",
       "      <td>198</td>\n",
       "      <td>1</td>\n",
       "      <td>-1</td>\n",
       "      <td>0</td>\n",
       "      <td>3</td>\n",
       "    </tr>\n",
       "  </tbody>\n",
       "</table>\n",
       "</div>"
      ],
      "text/plain": [
       "   age  job  marital  education  default  balance  housing  loan  contact  \\\n",
       "0   58    4        1          2        0     2143        1     0        2   \n",
       "1   44    9        2          1        0       29        1     0        2   \n",
       "2   33    2        1          1        0        2        1     1        2   \n",
       "3   47    1        1          3        0     1506        1     0        2   \n",
       "4   33   11        2          3        0        1        0     0        2   \n",
       "\n",
       "   day  month  duration  campaign  pdays  previous  poutcome  \n",
       "0    5      8       261         1     -1         0         3  \n",
       "1    5      8       151         1     -1         0         3  \n",
       "2    5      8        76         1     -1         0         3  \n",
       "3    5      8        92         1     -1         0         3  \n",
       "4    5      8       198         1     -1         0         3  "
      ]
     },
     "execution_count": 36,
     "metadata": {},
     "output_type": "execute_result"
    }
   ],
   "source": [
    "#exclude column target 'y'\n",
    "fake_bank_data = fake_bank.iloc[:,0:16]\n",
    "fake_bank_target = fake_bank.iloc[:,16]\n",
    "fake_bank_data.head()"
   ]
  },
  {
   "cell_type": "code",
   "execution_count": null,
   "metadata": {},
   "outputs": [],
   "source": []
  },
  {
   "cell_type": "code",
   "execution_count": 37,
   "metadata": {},
   "outputs": [
    {
     "name": "stderr",
     "output_type": "stream",
     "text": [
      "C:\\Users\\AnhTu\\Anaconda2\\lib\\site-packages\\sklearn\\preprocessing\\data.py:645: DataConversionWarning: Data with input dtype int32, int64 were all converted to float64 by StandardScaler.\n",
      "  return self.partial_fit(X, y)\n",
      "C:\\Users\\AnhTu\\Anaconda2\\lib\\site-packages\\ipykernel_launcher.py:13: DataConversionWarning: Data with input dtype int32, int64 were all converted to float64 by StandardScaler.\n",
      "  del sys.path[0]\n",
      "C:\\Users\\AnhTu\\Anaconda2\\lib\\site-packages\\sklearn\\preprocessing\\data.py:334: DataConversionWarning: Data with input dtype int32, int64 were all converted to float64 by MinMaxScaler.\n",
      "  return self.partial_fit(X, y)\n"
     ]
    }
   ],
   "source": [
    "from sklearn import preprocessing\n",
    "from sklearn.preprocessing import StandardScaler, MinMaxScaler\n",
    "\n",
    "#initialise the scaler\n",
    "std_scaler = StandardScaler()\n",
    "minmax_scaler = MinMaxScaler()\n",
    "\n",
    "#feature columns\n",
    "feat_col = list(fake_bank_data.columns)\n",
    "\n",
    "#Feature scaling by Standardization\n",
    "standard_scaled = std_scaler.fit(fake_bank_data)\n",
    "fake_bank_std = standard_scaled.transform(fake_bank_data)\n",
    "\n",
    "#Feature scaling by normalization\n",
    "minmax_scaled = minmax_scaler.fit(fake_bank_data)\n",
    "fake_bank_minmax = minmax_scaled.transform(fake_bank_data)"
   ]
  },
  {
   "cell_type": "code",
   "execution_count": 38,
   "metadata": {},
   "outputs": [
    {
     "data": {
      "text/plain": [
       "array([[ 1.60696496, -0.10381968, -0.27576178, ..., -0.41145311,\n",
       "        -0.25194037,  0.44489814],\n",
       "       [ 0.28852927,  1.42400783,  1.3683719 , ..., -0.41145311,\n",
       "        -0.25194037,  0.44489814],\n",
       "       [-0.74738448, -0.71495069, -0.27576178, ..., -0.41145311,\n",
       "        -0.25194037,  0.44489814],\n",
       "       ...,\n",
       "       [ 2.92540065,  0.20174582, -0.27576178, ...,  1.43618859,\n",
       "         1.05047333, -0.56617504],\n",
       "       [ 1.51279098, -1.02051619, -0.27576178, ..., -0.41145311,\n",
       "        -0.25194037,  0.44489814],\n",
       "       [-0.37068857, -0.71495069, -0.27576178, ...,  1.4761376 ,\n",
       "         4.52357654, -1.57724822]])"
      ]
     },
     "execution_count": 38,
     "metadata": {},
     "output_type": "execute_result"
    }
   ],
   "source": [
    "fake_bank_std"
   ]
  },
  {
   "cell_type": "code",
   "execution_count": 39,
   "metadata": {},
   "outputs": [
    {
     "data": {
      "text/plain": [
       "array([[0.51948052, 0.36363636, 0.5       , ..., 0.        , 0.        ,\n",
       "        1.        ],\n",
       "       [0.33766234, 0.81818182, 1.        , ..., 0.        , 0.        ,\n",
       "        1.        ],\n",
       "       [0.19480519, 0.18181818, 0.5       , ..., 0.        , 0.        ,\n",
       "        1.        ],\n",
       "       ...,\n",
       "       [0.7012987 , 0.45454545, 0.5       , ..., 0.21215596, 0.01090909,\n",
       "        0.66666667],\n",
       "       [0.50649351, 0.09090909, 0.5       , ..., 0.        , 0.        ,\n",
       "        1.        ],\n",
       "       [0.24675325, 0.18181818, 0.5       , ..., 0.21674312, 0.04      ,\n",
       "        0.33333333]])"
      ]
     },
     "execution_count": 39,
     "metadata": {},
     "output_type": "execute_result"
    }
   ],
   "source": [
    "fake_bank_minmax"
   ]
  },
  {
   "cell_type": "code",
   "execution_count": 40,
   "metadata": {},
   "outputs": [
    {
     "data": {
      "image/png": "[encoded data removed]",
      "text/plain": [
       "<Figure size 576x432 with 1 Axes>"
      ]
     },
     "metadata": {
      "needs_background": "light"
     },
     "output_type": "display_data"
    }
   ],
   "source": [
    "plt.figure(figsize=(8,6))\n",
    "plt.scatter(fake_bank['age'], fake_bank['balance'], label='Initial data', alpha = 0.5)\n",
    "plt.scatter(fake_bank_std[:,0], fake_bank_std[:,2], label='Standardized data', alpha = 0.5)\n",
    "plt.scatter(fake_bank_minmax[:,0], fake_bank_minmax[:,2], label='Normalized data', alpha = 0.5)\n",
    "plt.title('Year Of Operation Distribution on Ages')\n",
    "plt.xlabel('Customer Age')\n",
    "plt.ylabel('average yearly balance, in euros')\n",
    "plt.legend(loc='upper left')\n",
    "plt.grid()\n",
    "plt.show()"
   ]
  },
  {
   "cell_type": "code",
   "execution_count": 41,
   "metadata": {},
   "outputs": [
    {
     "data": {
      "image/png": "[encoded data removed]",
      "text/plain": [
       "<Figure size 576x432 with 1 Axes>"
      ]
     },
     "metadata": {
      "needs_background": "light"
     },
     "output_type": "display_data"
    }
   ],
   "source": [
    "plt.figure(figsize=(8,6))\n",
    "plt.scatter(fake_bank['age'], fake_bank['campaign'], label='Initial data', alpha=0.5)\n",
    "plt.scatter(fake_bank_std[:,0], fake_bank_std[:,8], label='Standardized data', alpha=0.5)\n",
    "plt.scatter(fake_bank_minmax[:,0], fake_bank_minmax[:,8], label='Normalized data', alpha=0.5)\n",
    "plt.title('number of contacts performed during this campaign and for this client on ages')\n",
    "plt.xlabel('Customer Age')\n",
    "plt.ylabel('number of contacts performed during this campaign and for this client')\n",
    "plt.legend(loc='upper left')\n",
    "plt.grid()\n",
    "plt.show()"
   ]
  },
  {
   "cell_type": "code",
   "execution_count": 42,
   "metadata": {},
   "outputs": [
    {
     "data": {
      "text/html": [
       "<div>\n",
       "<style scoped>\n",
       "    .dataframe tbody tr th:only-of-type {\n",
       "        vertical-align: middle;\n",
       "    }\n",
       "\n",
       "    .dataframe tbody tr th {\n",
       "        vertical-align: top;\n",
       "    }\n",
       "\n",
       "    .dataframe thead th {\n",
       "        text-align: right;\n",
       "    }\n",
       "</style>\n",
       "<table border=\"1\" class=\"dataframe\">\n",
       "  <thead>\n",
       "    <tr style=\"text-align: right;\">\n",
       "      <th></th>\n",
       "      <th>age</th>\n",
       "      <th>job</th>\n",
       "      <th>marital</th>\n",
       "      <th>education</th>\n",
       "      <th>default</th>\n",
       "      <th>balance</th>\n",
       "      <th>housing</th>\n",
       "      <th>loan</th>\n",
       "      <th>contact</th>\n",
       "      <th>day</th>\n",
       "      <th>month</th>\n",
       "      <th>duration</th>\n",
       "      <th>campaign</th>\n",
       "      <th>pdays</th>\n",
       "      <th>previous</th>\n",
       "      <th>poutcome</th>\n",
       "    </tr>\n",
       "  </thead>\n",
       "  <tbody>\n",
       "    <tr>\n",
       "      <th>0</th>\n",
       "      <td>1.606965</td>\n",
       "      <td>-0.103820</td>\n",
       "      <td>-0.275762</td>\n",
       "      <td>1.036362</td>\n",
       "      <td>-0.13549</td>\n",
       "      <td>0.256419</td>\n",
       "      <td>0.893915</td>\n",
       "      <td>-0.436803</td>\n",
       "      <td>1.514306</td>\n",
       "      <td>-1.298476</td>\n",
       "      <td>0.823773</td>\n",
       "      <td>0.011016</td>\n",
       "      <td>-0.569351</td>\n",
       "      <td>-0.411453</td>\n",
       "      <td>-0.25194</td>\n",
       "      <td>0.444898</td>\n",
       "    </tr>\n",
       "    <tr>\n",
       "      <th>1</th>\n",
       "      <td>0.288529</td>\n",
       "      <td>1.424008</td>\n",
       "      <td>1.368372</td>\n",
       "      <td>-0.300556</td>\n",
       "      <td>-0.13549</td>\n",
       "      <td>-0.437895</td>\n",
       "      <td>0.893915</td>\n",
       "      <td>-0.436803</td>\n",
       "      <td>1.514306</td>\n",
       "      <td>-1.298476</td>\n",
       "      <td>0.823773</td>\n",
       "      <td>-0.416127</td>\n",
       "      <td>-0.569351</td>\n",
       "      <td>-0.411453</td>\n",
       "      <td>-0.25194</td>\n",
       "      <td>0.444898</td>\n",
       "    </tr>\n",
       "    <tr>\n",
       "      <th>2</th>\n",
       "      <td>-0.747384</td>\n",
       "      <td>-0.714951</td>\n",
       "      <td>-0.275762</td>\n",
       "      <td>-0.300556</td>\n",
       "      <td>-0.13549</td>\n",
       "      <td>-0.446762</td>\n",
       "      <td>0.893915</td>\n",
       "      <td>2.289359</td>\n",
       "      <td>1.514306</td>\n",
       "      <td>-1.298476</td>\n",
       "      <td>0.823773</td>\n",
       "      <td>-0.707361</td>\n",
       "      <td>-0.569351</td>\n",
       "      <td>-0.411453</td>\n",
       "      <td>-0.25194</td>\n",
       "      <td>0.444898</td>\n",
       "    </tr>\n",
       "    <tr>\n",
       "      <th>3</th>\n",
       "      <td>0.571051</td>\n",
       "      <td>-1.020516</td>\n",
       "      <td>-0.275762</td>\n",
       "      <td>2.373280</td>\n",
       "      <td>-0.13549</td>\n",
       "      <td>0.047205</td>\n",
       "      <td>0.893915</td>\n",
       "      <td>-0.436803</td>\n",
       "      <td>1.514306</td>\n",
       "      <td>-1.298476</td>\n",
       "      <td>0.823773</td>\n",
       "      <td>-0.645231</td>\n",
       "      <td>-0.569351</td>\n",
       "      <td>-0.411453</td>\n",
       "      <td>-0.25194</td>\n",
       "      <td>0.444898</td>\n",
       "    </tr>\n",
       "    <tr>\n",
       "      <th>4</th>\n",
       "      <td>-0.747384</td>\n",
       "      <td>2.035139</td>\n",
       "      <td>1.368372</td>\n",
       "      <td>2.373280</td>\n",
       "      <td>-0.13549</td>\n",
       "      <td>-0.447091</td>\n",
       "      <td>-1.118674</td>\n",
       "      <td>-0.436803</td>\n",
       "      <td>1.514306</td>\n",
       "      <td>-1.298476</td>\n",
       "      <td>0.823773</td>\n",
       "      <td>-0.233620</td>\n",
       "      <td>-0.569351</td>\n",
       "      <td>-0.411453</td>\n",
       "      <td>-0.25194</td>\n",
       "      <td>0.444898</td>\n",
       "    </tr>\n",
       "  </tbody>\n",
       "</table>\n",
       "</div>"
      ],
      "text/plain": [
       "        age       job   marital  education  default   balance   housing  \\\n",
       "0  1.606965 -0.103820 -0.275762   1.036362 -0.13549  0.256419  0.893915   \n",
       "1  0.288529  1.424008  1.368372  -0.300556 -0.13549 -0.437895  0.893915   \n",
       "2 -0.747384 -0.714951 -0.275762  -0.300556 -0.13549 -0.446762  0.893915   \n",
       "3  0.571051 -1.020516 -0.275762   2.373280 -0.13549  0.047205  0.893915   \n",
       "4 -0.747384  2.035139  1.368372   2.373280 -0.13549 -0.447091 -1.118674   \n",
       "\n",
       "       loan   contact       day     month  duration  campaign     pdays  \\\n",
       "0 -0.436803  1.514306 -1.298476  0.823773  0.011016 -0.569351 -0.411453   \n",
       "1 -0.436803  1.514306 -1.298476  0.823773 -0.416127 -0.569351 -0.411453   \n",
       "2  2.289359  1.514306 -1.298476  0.823773 -0.707361 -0.569351 -0.411453   \n",
       "3 -0.436803  1.514306 -1.298476  0.823773 -0.645231 -0.569351 -0.411453   \n",
       "4 -0.436803  1.514306 -1.298476  0.823773 -0.233620 -0.569351 -0.411453   \n",
       "\n",
       "   previous  poutcome  \n",
       "0  -0.25194  0.444898  \n",
       "1  -0.25194  0.444898  \n",
       "2  -0.25194  0.444898  \n",
       "3  -0.25194  0.444898  \n",
       "4  -0.25194  0.444898  "
      ]
     },
     "execution_count": 42,
     "metadata": {},
     "output_type": "execute_result"
    }
   ],
   "source": [
    "df_bank_std = pd.DataFrame(fake_bank_std, columns = feat_col)\n",
    "df_bank_std.head()"
   ]
  },
  {
   "cell_type": "code",
   "execution_count": 43,
   "metadata": {},
   "outputs": [
    {
     "data": {
      "text/html": [
       "<div>\n",
       "<style scoped>\n",
       "    .dataframe tbody tr th:only-of-type {\n",
       "        vertical-align: middle;\n",
       "    }\n",
       "\n",
       "    .dataframe tbody tr th {\n",
       "        vertical-align: top;\n",
       "    }\n",
       "\n",
       "    .dataframe thead th {\n",
       "        text-align: right;\n",
       "    }\n",
       "</style>\n",
       "<table border=\"1\" class=\"dataframe\">\n",
       "  <thead>\n",
       "    <tr style=\"text-align: right;\">\n",
       "      <th></th>\n",
       "      <th>age</th>\n",
       "      <th>job</th>\n",
       "      <th>marital</th>\n",
       "      <th>education</th>\n",
       "      <th>default</th>\n",
       "      <th>balance</th>\n",
       "      <th>housing</th>\n",
       "      <th>loan</th>\n",
       "      <th>contact</th>\n",
       "      <th>day</th>\n",
       "      <th>month</th>\n",
       "      <th>duration</th>\n",
       "      <th>campaign</th>\n",
       "      <th>pdays</th>\n",
       "      <th>previous</th>\n",
       "      <th>poutcome</th>\n",
       "    </tr>\n",
       "  </thead>\n",
       "  <tbody>\n",
       "    <tr>\n",
       "      <th>0</th>\n",
       "      <td>0.519481</td>\n",
       "      <td>0.363636</td>\n",
       "      <td>0.5</td>\n",
       "      <td>0.666667</td>\n",
       "      <td>0.0</td>\n",
       "      <td>0.092259</td>\n",
       "      <td>1.0</td>\n",
       "      <td>0.0</td>\n",
       "      <td>1.0</td>\n",
       "      <td>0.133333</td>\n",
       "      <td>0.727273</td>\n",
       "      <td>0.053070</td>\n",
       "      <td>0.0</td>\n",
       "      <td>0.0</td>\n",
       "      <td>0.0</td>\n",
       "      <td>1.0</td>\n",
       "    </tr>\n",
       "    <tr>\n",
       "      <th>1</th>\n",
       "      <td>0.337662</td>\n",
       "      <td>0.818182</td>\n",
       "      <td>1.0</td>\n",
       "      <td>0.333333</td>\n",
       "      <td>0.0</td>\n",
       "      <td>0.073067</td>\n",
       "      <td>1.0</td>\n",
       "      <td>0.0</td>\n",
       "      <td>1.0</td>\n",
       "      <td>0.133333</td>\n",
       "      <td>0.727273</td>\n",
       "      <td>0.030704</td>\n",
       "      <td>0.0</td>\n",
       "      <td>0.0</td>\n",
       "      <td>0.0</td>\n",
       "      <td>1.0</td>\n",
       "    </tr>\n",
       "    <tr>\n",
       "      <th>2</th>\n",
       "      <td>0.194805</td>\n",
       "      <td>0.181818</td>\n",
       "      <td>0.5</td>\n",
       "      <td>0.333333</td>\n",
       "      <td>0.0</td>\n",
       "      <td>0.072822</td>\n",
       "      <td>1.0</td>\n",
       "      <td>1.0</td>\n",
       "      <td>1.0</td>\n",
       "      <td>0.133333</td>\n",
       "      <td>0.727273</td>\n",
       "      <td>0.015453</td>\n",
       "      <td>0.0</td>\n",
       "      <td>0.0</td>\n",
       "      <td>0.0</td>\n",
       "      <td>1.0</td>\n",
       "    </tr>\n",
       "    <tr>\n",
       "      <th>3</th>\n",
       "      <td>0.376623</td>\n",
       "      <td>0.090909</td>\n",
       "      <td>0.5</td>\n",
       "      <td>1.000000</td>\n",
       "      <td>0.0</td>\n",
       "      <td>0.086476</td>\n",
       "      <td>1.0</td>\n",
       "      <td>0.0</td>\n",
       "      <td>1.0</td>\n",
       "      <td>0.133333</td>\n",
       "      <td>0.727273</td>\n",
       "      <td>0.018707</td>\n",
       "      <td>0.0</td>\n",
       "      <td>0.0</td>\n",
       "      <td>0.0</td>\n",
       "      <td>1.0</td>\n",
       "    </tr>\n",
       "    <tr>\n",
       "      <th>4</th>\n",
       "      <td>0.194805</td>\n",
       "      <td>1.000000</td>\n",
       "      <td>1.0</td>\n",
       "      <td>1.000000</td>\n",
       "      <td>0.0</td>\n",
       "      <td>0.072812</td>\n",
       "      <td>0.0</td>\n",
       "      <td>0.0</td>\n",
       "      <td>1.0</td>\n",
       "      <td>0.133333</td>\n",
       "      <td>0.727273</td>\n",
       "      <td>0.040260</td>\n",
       "      <td>0.0</td>\n",
       "      <td>0.0</td>\n",
       "      <td>0.0</td>\n",
       "      <td>1.0</td>\n",
       "    </tr>\n",
       "  </tbody>\n",
       "</table>\n",
       "</div>"
      ],
      "text/plain": [
       "        age       job  marital  education  default   balance  housing  loan  \\\n",
       "0  0.519481  0.363636      0.5   0.666667      0.0  0.092259      1.0   0.0   \n",
       "1  0.337662  0.818182      1.0   0.333333      0.0  0.073067      1.0   0.0   \n",
       "2  0.194805  0.181818      0.5   0.333333      0.0  0.072822      1.0   1.0   \n",
       "3  0.376623  0.090909      0.5   1.000000      0.0  0.086476      1.0   0.0   \n",
       "4  0.194805  1.000000      1.0   1.000000      0.0  0.072812      0.0   0.0   \n",
       "\n",
       "   contact       day     month  duration  campaign  pdays  previous  poutcome  \n",
       "0      1.0  0.133333  0.727273  0.053070       0.0    0.0       0.0       1.0  \n",
       "1      1.0  0.133333  0.727273  0.030704       0.0    0.0       0.0       1.0  \n",
       "2      1.0  0.133333  0.727273  0.015453       0.0    0.0       0.0       1.0  \n",
       "3      1.0  0.133333  0.727273  0.018707       0.0    0.0       0.0       1.0  \n",
       "4      1.0  0.133333  0.727273  0.040260       0.0    0.0       0.0       1.0  "
      ]
     },
     "execution_count": 43,
     "metadata": {},
     "output_type": "execute_result"
    }
   ],
   "source": [
    "df_bank_minmax = pd.DataFrame(fake_bank_minmax, columns = feat_col)\n",
    "df_bank_minmax.head()"
   ]
  },
  {
   "cell_type": "code",
   "execution_count": 44,
   "metadata": {},
   "outputs": [
    {
     "data": {
      "text/html": [
       "<div>\n",
       "<style scoped>\n",
       "    .dataframe tbody tr th:only-of-type {\n",
       "        vertical-align: middle;\n",
       "    }\n",
       "\n",
       "    .dataframe tbody tr th {\n",
       "        vertical-align: top;\n",
       "    }\n",
       "\n",
       "    .dataframe thead th {\n",
       "        text-align: right;\n",
       "    }\n",
       "</style>\n",
       "<table border=\"1\" class=\"dataframe\">\n",
       "  <thead>\n",
       "    <tr style=\"text-align: right;\">\n",
       "      <th></th>\n",
       "      <th>age</th>\n",
       "      <th>job</th>\n",
       "      <th>marital</th>\n",
       "      <th>education</th>\n",
       "      <th>default</th>\n",
       "      <th>balance</th>\n",
       "      <th>housing</th>\n",
       "      <th>loan</th>\n",
       "      <th>contact</th>\n",
       "      <th>day</th>\n",
       "      <th>month</th>\n",
       "      <th>duration</th>\n",
       "      <th>campaign</th>\n",
       "      <th>pdays</th>\n",
       "      <th>previous</th>\n",
       "      <th>poutcome</th>\n",
       "      <th>y</th>\n",
       "    </tr>\n",
       "  </thead>\n",
       "  <tbody>\n",
       "    <tr>\n",
       "      <th>0</th>\n",
       "      <td>1.606965</td>\n",
       "      <td>-0.103820</td>\n",
       "      <td>-0.275762</td>\n",
       "      <td>1.036362</td>\n",
       "      <td>-0.13549</td>\n",
       "      <td>0.256419</td>\n",
       "      <td>0.893915</td>\n",
       "      <td>-0.436803</td>\n",
       "      <td>1.514306</td>\n",
       "      <td>-1.298476</td>\n",
       "      <td>0.823773</td>\n",
       "      <td>0.011016</td>\n",
       "      <td>-0.569351</td>\n",
       "      <td>-0.411453</td>\n",
       "      <td>-0.25194</td>\n",
       "      <td>0.444898</td>\n",
       "      <td>0</td>\n",
       "    </tr>\n",
       "    <tr>\n",
       "      <th>1</th>\n",
       "      <td>0.288529</td>\n",
       "      <td>1.424008</td>\n",
       "      <td>1.368372</td>\n",
       "      <td>-0.300556</td>\n",
       "      <td>-0.13549</td>\n",
       "      <td>-0.437895</td>\n",
       "      <td>0.893915</td>\n",
       "      <td>-0.436803</td>\n",
       "      <td>1.514306</td>\n",
       "      <td>-1.298476</td>\n",
       "      <td>0.823773</td>\n",
       "      <td>-0.416127</td>\n",
       "      <td>-0.569351</td>\n",
       "      <td>-0.411453</td>\n",
       "      <td>-0.25194</td>\n",
       "      <td>0.444898</td>\n",
       "      <td>0</td>\n",
       "    </tr>\n",
       "    <tr>\n",
       "      <th>2</th>\n",
       "      <td>-0.747384</td>\n",
       "      <td>-0.714951</td>\n",
       "      <td>-0.275762</td>\n",
       "      <td>-0.300556</td>\n",
       "      <td>-0.13549</td>\n",
       "      <td>-0.446762</td>\n",
       "      <td>0.893915</td>\n",
       "      <td>2.289359</td>\n",
       "      <td>1.514306</td>\n",
       "      <td>-1.298476</td>\n",
       "      <td>0.823773</td>\n",
       "      <td>-0.707361</td>\n",
       "      <td>-0.569351</td>\n",
       "      <td>-0.411453</td>\n",
       "      <td>-0.25194</td>\n",
       "      <td>0.444898</td>\n",
       "      <td>0</td>\n",
       "    </tr>\n",
       "    <tr>\n",
       "      <th>3</th>\n",
       "      <td>0.571051</td>\n",
       "      <td>-1.020516</td>\n",
       "      <td>-0.275762</td>\n",
       "      <td>2.373280</td>\n",
       "      <td>-0.13549</td>\n",
       "      <td>0.047205</td>\n",
       "      <td>0.893915</td>\n",
       "      <td>-0.436803</td>\n",
       "      <td>1.514306</td>\n",
       "      <td>-1.298476</td>\n",
       "      <td>0.823773</td>\n",
       "      <td>-0.645231</td>\n",
       "      <td>-0.569351</td>\n",
       "      <td>-0.411453</td>\n",
       "      <td>-0.25194</td>\n",
       "      <td>0.444898</td>\n",
       "      <td>0</td>\n",
       "    </tr>\n",
       "    <tr>\n",
       "      <th>4</th>\n",
       "      <td>-0.747384</td>\n",
       "      <td>2.035139</td>\n",
       "      <td>1.368372</td>\n",
       "      <td>2.373280</td>\n",
       "      <td>-0.13549</td>\n",
       "      <td>-0.447091</td>\n",
       "      <td>-1.118674</td>\n",
       "      <td>-0.436803</td>\n",
       "      <td>1.514306</td>\n",
       "      <td>-1.298476</td>\n",
       "      <td>0.823773</td>\n",
       "      <td>-0.233620</td>\n",
       "      <td>-0.569351</td>\n",
       "      <td>-0.411453</td>\n",
       "      <td>-0.25194</td>\n",
       "      <td>0.444898</td>\n",
       "      <td>0</td>\n",
       "    </tr>\n",
       "  </tbody>\n",
       "</table>\n",
       "</div>"
      ],
      "text/plain": [
       "        age       job   marital  education  default   balance   housing  \\\n",
       "0  1.606965 -0.103820 -0.275762   1.036362 -0.13549  0.256419  0.893915   \n",
       "1  0.288529  1.424008  1.368372  -0.300556 -0.13549 -0.437895  0.893915   \n",
       "2 -0.747384 -0.714951 -0.275762  -0.300556 -0.13549 -0.446762  0.893915   \n",
       "3  0.571051 -1.020516 -0.275762   2.373280 -0.13549  0.047205  0.893915   \n",
       "4 -0.747384  2.035139  1.368372   2.373280 -0.13549 -0.447091 -1.118674   \n",
       "\n",
       "       loan   contact       day     month  duration  campaign     pdays  \\\n",
       "0 -0.436803  1.514306 -1.298476  0.823773  0.011016 -0.569351 -0.411453   \n",
       "1 -0.436803  1.514306 -1.298476  0.823773 -0.416127 -0.569351 -0.411453   \n",
       "2  2.289359  1.514306 -1.298476  0.823773 -0.707361 -0.569351 -0.411453   \n",
       "3 -0.436803  1.514306 -1.298476  0.823773 -0.645231 -0.569351 -0.411453   \n",
       "4 -0.436803  1.514306 -1.298476  0.823773 -0.233620 -0.569351 -0.411453   \n",
       "\n",
       "   previous  poutcome  y  \n",
       "0  -0.25194  0.444898  0  \n",
       "1  -0.25194  0.444898  0  \n",
       "2  -0.25194  0.444898  0  \n",
       "3  -0.25194  0.444898  0  \n",
       "4  -0.25194  0.444898  0  "
      ]
     },
     "execution_count": 44,
     "metadata": {},
     "output_type": "execute_result"
    }
   ],
   "source": [
    "df_bank_std['y'] = fake_bank['y']\n",
    "df_bank_std.head()"
   ]
  },
  {
   "cell_type": "code",
   "execution_count": 45,
   "metadata": {},
   "outputs": [],
   "source": [
    "df_bank_data = df_bank_std.values[:,:16]\n",
    "df_bank_target = df_bank_std.values[:,16]"
   ]
  },
  {
   "cell_type": "code",
   "execution_count": 46,
   "metadata": {},
   "outputs": [
    {
     "data": {
      "text/plain": [
       "array([[ 1.60696496, -0.10381968, -0.27576178, ..., -0.41145311,\n",
       "        -0.25194037,  0.44489814],\n",
       "       [ 0.28852927,  1.42400783,  1.3683719 , ..., -0.41145311,\n",
       "        -0.25194037,  0.44489814],\n",
       "       [-0.74738448, -0.71495069, -0.27576178, ..., -0.41145311,\n",
       "        -0.25194037,  0.44489814],\n",
       "       ...,\n",
       "       [ 2.92540065,  0.20174582, -0.27576178, ...,  1.43618859,\n",
       "         1.05047333, -0.56617504],\n",
       "       [ 1.51279098, -1.02051619, -0.27576178, ..., -0.41145311,\n",
       "        -0.25194037,  0.44489814],\n",
       "       [-0.37068857, -0.71495069, -0.27576178, ...,  1.4761376 ,\n",
       "         4.52357654, -1.57724822]])"
      ]
     },
     "execution_count": 46,
     "metadata": {},
     "output_type": "execute_result"
    }
   ],
   "source": [
    "df_bank_data"
   ]
  },
  {
   "cell_type": "code",
   "execution_count": 47,
   "metadata": {},
   "outputs": [
    {
     "data": {
      "text/plain": [
       "array([0., 0., 0., ..., 1., 0., 0.])"
      ]
     },
     "execution_count": 47,
     "metadata": {},
     "output_type": "execute_result"
    }
   ],
   "source": [
    "df_bank_target"
   ]
  },
  {
   "cell_type": "markdown",
   "metadata": {},
   "source": [
    "## Selecting Features with Hill Climbing"
   ]
  },
  {
   "cell_type": "code",
   "execution_count": 48,
   "metadata": {},
   "outputs": [],
   "source": [
    "from sklearn.model_selection import train_test_split\n",
    "from sklearn.utils import shuffle\n",
    "from sklearn.neighbors import KNeighborsClassifier\n",
    "\n",
    "def hillClimbing(df, df_target, num, test_size):\n",
    "    new_Ind = []\n",
    "    cur_MaxScore = 0.0\n",
    "    col_num = num\n",
    "    col_Ind_Random = shuffle(range(0,col_num), random_state=1)\n",
    "\n",
    "    for cur_f in range(0, col_num):\n",
    "        new_Ind.append(col_Ind_Random[cur_f])\n",
    "        newData = df[:, new_Ind]\n",
    "        X_train, X_test, y_train, y_test = train_test_split(newData, df_target, test_size=test_size, random_state=0)\n",
    "        clf = KNeighborsClassifier(5, weights='distance', p=1)\n",
    "        fit = clf.fit(X_train, y_train)\n",
    "        cur_Score = clf.score(X_test, y_test)\n",
    "        if cur_Score < cur_MaxScore:\n",
    "            new_Ind.remove(col_Ind_Random[cur_f])\n",
    "        else:\n",
    "            cur_MaxScore = cur_Score\n",
    "        print \"Score with \" + str(len(new_Ind)) + \" selected features: \" + str(cur_Score)\n",
    "    \n",
    "    return new_Ind"
   ]
  },
  {
   "cell_type": "code",
   "execution_count": 49,
   "metadata": {},
   "outputs": [
    {
     "name": "stdout",
     "output_type": "stream",
     "text": [
      "Score with 1 selected features: 0.8833053171724321\n",
      "Score with 1 selected features: 0.8805626824736795\n",
      "Score with 2 selected features: 0.8833053171724321\n",
      "Score with 3 selected features: 0.8833053171724321\n",
      "Score with 3 selected features: 0.8783508802972663\n",
      "Score with 3 selected features: 0.8782181721666814\n",
      "Score with 3 selected features: 0.8832610811289038\n",
      "Score with 3 selected features: 0.865389719543484\n",
      "Score with 3 selected features: 0.8707865168539326\n",
      "Score with 3 selected features: 0.8751216491197027\n",
      "Score with 4 selected features: 0.8911350968769354\n",
      "Score with 4 selected features: 0.8733964434221003\n",
      "Score with 4 selected features: 0.839511634079448\n",
      "Score with 4 selected features: 0.8904273201804831\n",
      "Score with 4 selected features: 0.8730867911174025\n",
      "Score with 4 selected features: 0.8534017517473237\n",
      "There are 4 features selected:\n",
      "[3, 7, 2, 15]\n"
     ]
    }
   ],
   "source": [
    "#generate list of features selected by Hill Climbing\n",
    "new_Feat = hillClimbing(df_bank_data, df_bank_target, 16, 0.5)\n",
    "\n",
    "print \"There are \" + str(len(new_Feat)) + \" features selected:\"\n",
    "print new_Feat"
   ]
  },
  {
   "cell_type": "code",
   "execution_count": 50,
   "metadata": {},
   "outputs": [
    {
     "data": {
      "text/html": [
       "<div>\n",
       "<style scoped>\n",
       "    .dataframe tbody tr th:only-of-type {\n",
       "        vertical-align: middle;\n",
       "    }\n",
       "\n",
       "    .dataframe tbody tr th {\n",
       "        vertical-align: top;\n",
       "    }\n",
       "\n",
       "    .dataframe thead th {\n",
       "        text-align: right;\n",
       "    }\n",
       "</style>\n",
       "<table border=\"1\" class=\"dataframe\">\n",
       "  <thead>\n",
       "    <tr style=\"text-align: right;\">\n",
       "      <th></th>\n",
       "      <th>education</th>\n",
       "      <th>loan</th>\n",
       "      <th>marital</th>\n",
       "      <th>poutcome</th>\n",
       "    </tr>\n",
       "  </thead>\n",
       "  <tbody>\n",
       "    <tr>\n",
       "      <th>0</th>\n",
       "      <td>1.036362</td>\n",
       "      <td>-0.436803</td>\n",
       "      <td>-0.275762</td>\n",
       "      <td>0.444898</td>\n",
       "    </tr>\n",
       "    <tr>\n",
       "      <th>1</th>\n",
       "      <td>-0.300556</td>\n",
       "      <td>-0.436803</td>\n",
       "      <td>1.368372</td>\n",
       "      <td>0.444898</td>\n",
       "    </tr>\n",
       "    <tr>\n",
       "      <th>2</th>\n",
       "      <td>-0.300556</td>\n",
       "      <td>2.289359</td>\n",
       "      <td>-0.275762</td>\n",
       "      <td>0.444898</td>\n",
       "    </tr>\n",
       "    <tr>\n",
       "      <th>3</th>\n",
       "      <td>2.373280</td>\n",
       "      <td>-0.436803</td>\n",
       "      <td>-0.275762</td>\n",
       "      <td>0.444898</td>\n",
       "    </tr>\n",
       "    <tr>\n",
       "      <th>4</th>\n",
       "      <td>2.373280</td>\n",
       "      <td>-0.436803</td>\n",
       "      <td>1.368372</td>\n",
       "      <td>0.444898</td>\n",
       "    </tr>\n",
       "  </tbody>\n",
       "</table>\n",
       "</div>"
      ],
      "text/plain": [
       "   education      loan   marital  poutcome\n",
       "0   1.036362 -0.436803 -0.275762  0.444898\n",
       "1  -0.300556 -0.436803  1.368372  0.444898\n",
       "2  -0.300556  2.289359 -0.275762  0.444898\n",
       "3   2.373280 -0.436803 -0.275762  0.444898\n",
       "4   2.373280 -0.436803  1.368372  0.444898"
      ]
     },
     "execution_count": 50,
     "metadata": {},
     "output_type": "execute_result"
    }
   ],
   "source": [
    "#new dataframe with selected features\n",
    "new_df_bank=df_bank_std.iloc[:,new_Feat]\n",
    "new_df_bank.head()"
   ]
  },
  {
   "cell_type": "code",
   "execution_count": 51,
   "metadata": {},
   "outputs": [
    {
     "data": {
      "text/plain": [
       "['education', 'loan', 'marital', 'poutcome']"
      ]
     },
     "execution_count": 51,
     "metadata": {},
     "output_type": "execute_result"
    }
   ],
   "source": [
    "new_feat_col = list(new_df_bank.columns)\n",
    "new_feat_col"
   ]
  },
  {
   "cell_type": "code",
   "execution_count": 52,
   "metadata": {},
   "outputs": [
    {
     "name": "stdout",
     "output_type": "stream",
     "text": [
      "[[ 1.03636182 -0.43680347 -0.27576178  0.44489814]\n",
      " [-0.30055587 -0.43680347  1.3683719   0.44489814]\n",
      " [-0.30055587  2.2893591  -0.27576178  0.44489814]\n",
      " ...\n",
      " [-0.30055587 -0.43680347 -0.27576178 -0.56617504]\n",
      " [-0.30055587 -0.43680347 -0.27576178  0.44489814]\n",
      " [-0.30055587 -0.43680347 -0.27576178 -1.57724822]]\n"
     ]
    }
   ],
   "source": [
    "new_df_bank_data = df_bank_std.values[:,new_Feat]\n",
    "print new_df_bank_data"
   ]
  },
  {
   "cell_type": "markdown",
   "metadata": {},
   "source": [
    "## Generating Train/Test Set"
   ]
  },
  {
   "cell_type": "code",
   "execution_count": 53,
   "metadata": {},
   "outputs": [],
   "source": [
    "X = new_df_bank_data\n",
    "y = df_bank_target"
   ]
  },
  {
   "cell_type": "markdown",
   "metadata": {},
   "source": [
    "#### Test_size = 50%"
   ]
  },
  {
   "cell_type": "code",
   "execution_count": 54,
   "metadata": {},
   "outputs": [],
   "source": [
    "X_train_50, X_test_50, y_train_50, y_test_50 = train_test_split(X, y, test_size = 0.5, random_state=4)"
   ]
  },
  {
   "cell_type": "code",
   "execution_count": 55,
   "metadata": {},
   "outputs": [
    {
     "data": {
      "text/plain": [
       "array([[-0.30055587, -0.43680347, -1.91989546, -2.58832139],\n",
       "       [ 1.03636182, -0.43680347, -0.27576178,  0.44489814],\n",
       "       [-0.30055587, -0.43680347, -0.27576178,  0.44489814],\n",
       "       ...,\n",
       "       [ 2.37327951,  2.2893591 , -0.27576178,  0.44489814],\n",
       "       [ 1.03636182, -0.43680347, -0.27576178,  0.44489814],\n",
       "       [ 1.03636182, -0.43680347, -0.27576178,  0.44489814]])"
      ]
     },
     "execution_count": 55,
     "metadata": {},
     "output_type": "execute_result"
    }
   ],
   "source": [
    "X_train_50"
   ]
  },
  {
   "cell_type": "code",
   "execution_count": 56,
   "metadata": {},
   "outputs": [
    {
     "data": {
      "text/plain": [
       "(22605L, 4L)"
      ]
     },
     "execution_count": 56,
     "metadata": {},
     "output_type": "execute_result"
    }
   ],
   "source": [
    "X_train_50.shape"
   ]
  },
  {
   "cell_type": "code",
   "execution_count": 57,
   "metadata": {},
   "outputs": [
    {
     "data": {
      "text/plain": [
       "array([0., 1., 0., ..., 0., 0., 0.])"
      ]
     },
     "execution_count": 57,
     "metadata": {},
     "output_type": "execute_result"
    }
   ],
   "source": [
    "y_train_50"
   ]
  },
  {
   "cell_type": "code",
   "execution_count": 58,
   "metadata": {},
   "outputs": [
    {
     "data": {
      "text/plain": [
       "(22605L,)"
      ]
     },
     "execution_count": 58,
     "metadata": {},
     "output_type": "execute_result"
    }
   ],
   "source": [
    "y_train_50.shape"
   ]
  },
  {
   "cell_type": "code",
   "execution_count": 59,
   "metadata": {},
   "outputs": [
    {
     "data": {
      "text/plain": [
       "array([[-0.30055587, -0.43680347, -0.27576178,  0.44489814],\n",
       "       [-0.30055587,  2.2893591 , -0.27576178,  0.44489814],\n",
       "       [ 2.37327951, -0.43680347,  1.3683719 ,  0.44489814],\n",
       "       ...,\n",
       "       [-1.63747356, -0.43680347, -0.27576178,  0.44489814],\n",
       "       [ 1.03636182, -0.43680347,  1.3683719 ,  0.44489814],\n",
       "       [-0.30055587, -0.43680347, -0.27576178,  0.44489814]])"
      ]
     },
     "execution_count": 59,
     "metadata": {},
     "output_type": "execute_result"
    }
   ],
   "source": [
    "X_test_50"
   ]
  },
  {
   "cell_type": "code",
   "execution_count": 60,
   "metadata": {},
   "outputs": [
    {
     "data": {
      "text/plain": [
       "(22606L, 4L)"
      ]
     },
     "execution_count": 60,
     "metadata": {},
     "output_type": "execute_result"
    }
   ],
   "source": [
    "X_test_50.shape"
   ]
  },
  {
   "cell_type": "code",
   "execution_count": 61,
   "metadata": {},
   "outputs": [
    {
     "data": {
      "text/plain": [
       "array([0., 0., 0., ..., 0., 0., 0.])"
      ]
     },
     "execution_count": 61,
     "metadata": {},
     "output_type": "execute_result"
    }
   ],
   "source": [
    "y_test_50"
   ]
  },
  {
   "cell_type": "code",
   "execution_count": 62,
   "metadata": {},
   "outputs": [
    {
     "data": {
      "text/plain": [
       "(22606L,)"
      ]
     },
     "execution_count": 62,
     "metadata": {},
     "output_type": "execute_result"
    }
   ],
   "source": [
    "y_test_50.shape"
   ]
  },
  {
   "cell_type": "markdown",
   "metadata": {},
   "source": [
    "#### Test_size = 40%"
   ]
  },
  {
   "cell_type": "code",
   "execution_count": 63,
   "metadata": {},
   "outputs": [],
   "source": [
    "X_train_40, X_test_40, y_train_40, y_test_40 = train_test_split(X, y, test_size = 0.4, random_state=4)"
   ]
  },
  {
   "cell_type": "markdown",
   "metadata": {},
   "source": [
    "#### Test_size = 20%"
   ]
  },
  {
   "cell_type": "code",
   "execution_count": 64,
   "metadata": {},
   "outputs": [],
   "source": [
    "X_train_20, X_test_20, y_train_20, y_test_20 = train_test_split(X, y, test_size = 0.2, random_state=4)"
   ]
  },
  {
   "cell_type": "markdown",
   "metadata": {},
   "source": [
    "## Build the k Nearest Neighbor Classifier"
   ]
  },
  {
   "cell_type": "code",
   "execution_count": 65,
   "metadata": {},
   "outputs": [],
   "source": [
    "from sklearn.neighbors import KNeighborsClassifier\n",
    "from sklearn.metrics import confusion_matrix\n",
    "from sklearn.metrics import classification_report\n",
    "\n",
    "#create function for building kNN Classifier\n",
    "def kNN(x_train, x_test, y_train, y_test, params):\n",
    "    # Create KNN classifier\n",
    "    clf = KNeighborsClassifier(**params)\n",
    "\n",
    "    # Fit the classifier to the data\n",
    "    fit=clf.fit(x_train,y_train)\n",
    "    \n",
    "    #predictions on the test data\n",
    "    y_pre = fit.predict(x_test)\n",
    "\n",
    "    cm = confusion_matrix(y_test, y_pre)\n",
    "    print \"Confusion matrix: \"\n",
    "    print cm\n",
    "    \n",
    "    #display classification report\n",
    "    print \"Classification report: \"\n",
    "    print classification_report(y_test, y_pre)\n",
    "    \n",
    "    #check accuracy and classification error rate of our model on the test data\n",
    "    print \"Accuracy: {:.5f}%\".format(clf.score(x_test, y_test)*100)\n",
    "    print \"Classification error rate: {:.5f}%\".format(100 - clf.score(x_test, y_test)*100)"
   ]
  },
  {
   "cell_type": "markdown",
   "metadata": {},
   "source": [
    "### Begin with Test_size = 50%"
   ]
  },
  {
   "cell_type": "code",
   "execution_count": null,
   "metadata": {},
   "outputs": [],
   "source": []
  },
  {
   "cell_type": "code",
   "execution_count": 66,
   "metadata": {},
   "outputs": [
    {
     "name": "stdout",
     "output_type": "stream",
     "text": [
      "Confusion matrix: \n",
      "[[18745  1285]\n",
      " [ 2071   505]]\n",
      "Classification report: \n",
      "              precision    recall  f1-score   support\n",
      "\n",
      "         0.0       0.90      0.94      0.92     20030\n",
      "         1.0       0.28      0.20      0.23      2576\n",
      "\n",
      "   micro avg       0.85      0.85      0.85     22606\n",
      "   macro avg       0.59      0.57      0.57     22606\n",
      "weighted avg       0.83      0.85      0.84     22606\n",
      "\n",
      "Accuracy: 85.15438%\n",
      "Classification error rate: 14.84562%\n"
     ]
    }
   ],
   "source": [
    "#Build kNN Classifier for test split ratio 50% and n_neighbors = 3\n",
    "kNN(X_train_50, X_test_50, y_train_50, y_test_50,{'n_neighbors': 3})"
   ]
  },
  {
   "cell_type": "markdown",
   "metadata": {},
   "source": [
    "### Hypertuning model parameters using GridSearchCV"
   ]
  },
  {
   "cell_type": "code",
   "execution_count": 67,
   "metadata": {},
   "outputs": [],
   "source": [
    "from sklearn.model_selection import GridSearchCV\n",
    "import time\n",
    "\n",
    "#Define a function to select best parameters\n",
    "def GridSCV (x, y):\n",
    "    start = time.time() #current time-stamp\n",
    "    \n",
    "    #create new a knn model\n",
    "    knn2 = KNeighborsClassifier()\n",
    "\n",
    "    #create a dictionary of all values we want to test for n_neighbors\n",
    "    param_grid = {'n_neighbors': range(3,10),\n",
    "                 'weights':['uniform','distance'],\n",
    "                 'metric':['euclidean','manhattan']\n",
    "                 }\n",
    "\n",
    "    #use gridsearch to test all values for n_neighbors\n",
    "    knn_gscv = GridSearchCV(knn2, param_grid, verbose = 1, n_jobs =-1, cv = 5)\n",
    "\n",
    "    #fit model to data\n",
    "    gs_results = knn_gscv.fit(x, y)\n",
    "    \n",
    "    #Show results\n",
    "    print(\"Best parameters: {}\".format(gs_results.best_params_))\n",
    "    print(\"Elapsed time {:.2f} seconds\".format(time.time() - start))\n",
    "    \n",
    "    return gs_results.best_params_"
   ]
  },
  {
   "cell_type": "code",
   "execution_count": 68,
   "metadata": {},
   "outputs": [
    {
     "name": "stdout",
     "output_type": "stream",
     "text": [
      "Fitting 5 folds for each of 28 candidates, totalling 140 fits\n"
     ]
    },
    {
     "name": "stderr",
     "output_type": "stream",
     "text": [
      "[Parallel(n_jobs=-1)]: Using backend LokyBackend with 4 concurrent workers.\n",
      "[Parallel(n_jobs=-1)]: Done  42 tasks      | elapsed:   29.9s\n",
      "[Parallel(n_jobs=-1)]: Done 140 out of 140 | elapsed:  1.4min finished\n"
     ]
    },
    {
     "name": "stdout",
     "output_type": "stream",
     "text": [
      "Best parameters: {'n_neighbors': 9, 'metric': 'euclidean', 'weights': 'uniform'}\n",
      "Elapsed time 85.27 seconds\n"
     ]
    }
   ],
   "source": [
    "#optimized parameters for test size 50%\n",
    "best_params_50 = GridSCV(X_train_50, y_train_50)"
   ]
  },
  {
   "cell_type": "markdown",
   "metadata": {},
   "source": [
    "### Rebuild new kNN Classifier (test_size = 50%) using optimized parameter"
   ]
  },
  {
   "cell_type": "code",
   "execution_count": 69,
   "metadata": {},
   "outputs": [
    {
     "name": "stdout",
     "output_type": "stream",
     "text": [
      "Confusion matrix: \n",
      "[[19271   759]\n",
      " [ 2032   544]]\n",
      "Classification report: \n",
      "              precision    recall  f1-score   support\n",
      "\n",
      "         0.0       0.90      0.96      0.93     20030\n",
      "         1.0       0.42      0.21      0.28      2576\n",
      "\n",
      "   micro avg       0.88      0.88      0.88     22606\n",
      "   macro avg       0.66      0.59      0.61     22606\n",
      "weighted avg       0.85      0.88      0.86     22606\n",
      "\n",
      "Accuracy: 87.65372%\n",
      "Classification error rate: 12.34628%\n"
     ]
    }
   ],
   "source": [
    "#test_size = 50%\n",
    "kNN(X_train_50, X_test_50, y_train_50, y_test_50, best_params_50)"
   ]
  },
  {
   "cell_type": "markdown",
   "metadata": {},
   "source": [
    "## Startover with test_size = 40% and test_size = 20%"
   ]
  },
  {
   "cell_type": "markdown",
   "metadata": {},
   "source": [
    "### Test_size = 40% "
   ]
  },
  {
   "cell_type": "code",
   "execution_count": 70,
   "metadata": {},
   "outputs": [
    {
     "name": "stdout",
     "output_type": "stream",
     "text": [
      "Confusion matrix: \n",
      "[[15803   201]\n",
      " [ 1738   343]]\n",
      "Classification report: \n",
      "              precision    recall  f1-score   support\n",
      "\n",
      "         0.0       0.90      0.99      0.94     16004\n",
      "         1.0       0.63      0.16      0.26      2081\n",
      "\n",
      "   micro avg       0.89      0.89      0.89     18085\n",
      "   macro avg       0.77      0.58      0.60     18085\n",
      "weighted avg       0.87      0.89      0.86     18085\n",
      "\n",
      "Accuracy: 89.27841%\n",
      "Classification error rate: 10.72159%\n"
     ]
    }
   ],
   "source": [
    "#build kNN Classifier with n_neighbors = 3\n",
    "kNN(X_train_40, X_test_40, y_train_40, y_test_40,{'n_neighbors': 3})"
   ]
  },
  {
   "cell_type": "code",
   "execution_count": 71,
   "metadata": {},
   "outputs": [
    {
     "name": "stdout",
     "output_type": "stream",
     "text": [
      "Fitting 5 folds for each of 28 candidates, totalling 140 fits\n"
     ]
    },
    {
     "name": "stderr",
     "output_type": "stream",
     "text": [
      "[Parallel(n_jobs=-1)]: Using backend LokyBackend with 4 concurrent workers.\n",
      "[Parallel(n_jobs=-1)]: Done  42 tasks      | elapsed:   34.1s\n",
      "[Parallel(n_jobs=-1)]: Done 140 out of 140 | elapsed:  1.8min finished\n"
     ]
    },
    {
     "name": "stdout",
     "output_type": "stream",
     "text": [
      "Best parameters: {'n_neighbors': 9, 'metric': 'euclidean', 'weights': 'uniform'}\n",
      "Elapsed time 108.11 seconds\n"
     ]
    }
   ],
   "source": [
    "#hypertunning the model\n",
    "best_params_40 = GridSCV(X_train_40, y_train_40)"
   ]
  },
  {
   "cell_type": "code",
   "execution_count": 72,
   "metadata": {},
   "outputs": [
    {
     "name": "stdout",
     "output_type": "stream",
     "text": [
      "Confusion matrix: \n",
      "[[15853   151]\n",
      " [ 1768   313]]\n",
      "Classification report: \n",
      "              precision    recall  f1-score   support\n",
      "\n",
      "         0.0       0.90      0.99      0.94     16004\n",
      "         1.0       0.67      0.15      0.25      2081\n",
      "\n",
      "   micro avg       0.89      0.89      0.89     18085\n",
      "   macro avg       0.79      0.57      0.59     18085\n",
      "weighted avg       0.87      0.89      0.86     18085\n",
      "\n",
      "Accuracy: 89.38900%\n",
      "Classification error rate: 10.61100%\n"
     ]
    }
   ],
   "source": [
    "#rebuild kNN with optimized parameters\n",
    "kNN(X_train_40, X_test_40, y_train_40, y_test_40, best_params_40)"
   ]
  },
  {
   "cell_type": "markdown",
   "metadata": {},
   "source": [
    "### Test_size = 20%"
   ]
  },
  {
   "cell_type": "code",
   "execution_count": 73,
   "metadata": {},
   "outputs": [
    {
     "name": "stdout",
     "output_type": "stream",
     "text": [
      "Confusion matrix: \n",
      "[[7738  274]\n",
      " [ 862  169]]\n",
      "Classification report: \n",
      "              precision    recall  f1-score   support\n",
      "\n",
      "         0.0       0.90      0.97      0.93      8012\n",
      "         1.0       0.38      0.16      0.23      1031\n",
      "\n",
      "   micro avg       0.87      0.87      0.87      9043\n",
      "   macro avg       0.64      0.56      0.58      9043\n",
      "weighted avg       0.84      0.87      0.85      9043\n",
      "\n",
      "Accuracy: 87.43780%\n",
      "Classification error rate: 12.56220%\n"
     ]
    }
   ],
   "source": [
    "#build kNN Classifier with n_neighbors = 3\n",
    "kNN(X_train_20, X_test_20, y_train_20, y_test_20,{'n_neighbors': 3})"
   ]
  },
  {
   "cell_type": "code",
   "execution_count": 74,
   "metadata": {},
   "outputs": [
    {
     "name": "stdout",
     "output_type": "stream",
     "text": [
      "Fitting 5 folds for each of 28 candidates, totalling 140 fits\n"
     ]
    },
    {
     "name": "stderr",
     "output_type": "stream",
     "text": [
      "[Parallel(n_jobs=-1)]: Using backend LokyBackend with 4 concurrent workers.\n",
      "[Parallel(n_jobs=-1)]: Done  42 tasks      | elapsed:   55.2s\n",
      "[Parallel(n_jobs=-1)]: Done 140 out of 140 | elapsed:  3.1min finished\n"
     ]
    },
    {
     "name": "stdout",
     "output_type": "stream",
     "text": [
      "Best parameters: {'n_neighbors': 9, 'metric': 'euclidean', 'weights': 'uniform'}\n",
      "Elapsed time 187.07 seconds\n"
     ]
    }
   ],
   "source": [
    "#hypertunning the model\n",
    "best_params_20 = GridSCV(X_train_20, y_train_20)"
   ]
  },
  {
   "cell_type": "code",
   "execution_count": 75,
   "metadata": {},
   "outputs": [
    {
     "name": "stdout",
     "output_type": "stream",
     "text": [
      "Confusion matrix: \n",
      "[[7929   83]\n",
      " [ 880  151]]\n",
      "Classification report: \n",
      "              precision    recall  f1-score   support\n",
      "\n",
      "         0.0       0.90      0.99      0.94      8012\n",
      "         1.0       0.65      0.15      0.24      1031\n",
      "\n",
      "   micro avg       0.89      0.89      0.89      9043\n",
      "   macro avg       0.77      0.57      0.59      9043\n",
      "weighted avg       0.87      0.89      0.86      9043\n",
      "\n",
      "Accuracy: 89.35088%\n",
      "Classification error rate: 10.64912%\n"
     ]
    }
   ],
   "source": [
    "#rebuild kNN with optimized parameters\n",
    "kNN(X_train_20, X_test_20, y_train_20, y_test_20, best_params_20)"
   ]
  },
  {
   "cell_type": "markdown",
   "metadata": {},
   "source": [
    "## K-Fold Validation"
   ]
  },
  {
   "cell_type": "code",
   "execution_count": 76,
   "metadata": {},
   "outputs": [],
   "source": [
    "from sklearn.model_selection import KFold\n",
    "kf = KFold(n_splits=5,random_state=4)"
   ]
  },
  {
   "cell_type": "code",
   "execution_count": 77,
   "metadata": {},
   "outputs": [
    {
     "name": "stdout",
     "output_type": "stream",
     "text": [
      "('TRAIN:', array([ 9043,  9044,  9045, ..., 45208, 45209, 45210], dtype=int64), 'TEST:', array([   0,    1,    2, ..., 9040, 9041, 9042], dtype=int64))\n",
      "('TRAIN:', array([    0,     1,     2, ..., 45208, 45209, 45210], dtype=int64), 'TEST:', array([ 9043,  9044,  9045, ..., 18082, 18083, 18084], dtype=int64))\n",
      "('TRAIN:', array([    0,     1,     2, ..., 45208, 45209, 45210], dtype=int64), 'TEST:', array([18085, 18086, 18087, ..., 27124, 27125, 27126], dtype=int64))\n",
      "('TRAIN:', array([    0,     1,     2, ..., 45208, 45209, 45210], dtype=int64), 'TEST:', array([27127, 27128, 27129, ..., 36166, 36167, 36168], dtype=int64))\n",
      "('TRAIN:', array([    0,     1,     2, ..., 36166, 36167, 36168], dtype=int64), 'TEST:', array([36169, 36170, 36171, ..., 45208, 45209, 45210], dtype=int64))\n"
     ]
    }
   ],
   "source": [
    "for train_index, test_index in kf.split(new_df_bank_data):\n",
    "    print(\"TRAIN:\", train_index, \"TEST:\", test_index)\n",
    "    X_train, X_test = new_df_bank_data[train_index], new_df_bank_data[test_index]\n",
    "    y_train, y_test = df_bank_target[train_index], df_bank_target[test_index]"
   ]
  },
  {
   "cell_type": "code",
   "execution_count": 78,
   "metadata": {},
   "outputs": [
    {
     "name": "stdout",
     "output_type": "stream",
     "text": [
      "[fold 0] score: 0.94780\n",
      "[fold 1] score: 0.94382\n",
      "[fold 2] score: 0.93176\n",
      "[fold 3] score: 0.88023\n",
      "[fold 4] score: 0.68624\n"
     ]
    }
   ],
   "source": [
    "for k, (train_index, test_index) in enumerate(kf.split(new_df_bank_data)):\n",
    "    X_train, X_test = new_df_bank_data[train_index], new_df_bank_data[test_index]\n",
    "    y_train, y_test = df_bank_target[train_index], df_bank_target[test_index]\n",
    "    clf = KNeighborsClassifier()\n",
    "    clf.fit(X_train, y_train)\n",
    "    print \"[fold {0}] score: {1:.5f}\".format(k, clf.score(X_test, y_test))\n"
   ]
  },
  {
   "cell_type": "markdown",
   "metadata": {},
   "source": [
    "## Decision Tree Model\n"
   ]
  },
  {
   "cell_type": "code",
   "execution_count": 79,
   "metadata": {},
   "outputs": [
    {
     "data": {
      "text/plain": [
       "['age',\n",
       " 'job',\n",
       " 'marital',\n",
       " 'education',\n",
       " 'default',\n",
       " 'balance',\n",
       " 'housing',\n",
       " 'loan',\n",
       " 'contact',\n",
       " 'day',\n",
       " 'month',\n",
       " 'duration',\n",
       " 'campaign',\n",
       " 'pdays',\n",
       " 'previous',\n",
       " 'poutcome']"
      ]
     },
     "execution_count": 79,
     "metadata": {},
     "output_type": "execute_result"
    }
   ],
   "source": [
    "feat_col"
   ]
  },
  {
   "cell_type": "code",
   "execution_count": 80,
   "metadata": {},
   "outputs": [],
   "source": [
    "#retreiving scaled data\n",
    "bank_data = df_bank_data \n",
    "bank_target = df_bank_target"
   ]
  },
  {
   "cell_type": "code",
   "execution_count": 81,
   "metadata": {},
   "outputs": [],
   "source": [
    "#Regenerate Train/Test split for test_size 50% 40% 20%\n",
    "X_train_50, X_test_50, y_train_50, y_test_50 = train_test_split(bank_data, bank_target, test_size = 0.5, random_state=4)\n",
    "X_train_40, X_test_40, y_train_40, y_test_40 = train_test_split(bank_data, bank_target, test_size = 0.4, random_state=4)\n",
    "X_train_20, X_test_20, y_train_20, y_test_20 = train_test_split(bank_data, bank_target, test_size = 0.2, random_state=4)"
   ]
  },
  {
   "cell_type": "code",
   "execution_count": 82,
   "metadata": {},
   "outputs": [],
   "source": [
    "from sklearn.tree import DecisionTreeClassifier\n",
    "from sklearn.metrics import classification_report\n",
    "from sklearn.metrics import confusion_matrix\n",
    "from sklearn import tree\n",
    "\n",
    "#define function to build a Decision Tree Classifier\n",
    "def decisionTree(x_train, x_test, y_train, y_test, params, feat_col, test_size):\n",
    "    clf = DecisionTreeClassifier(**params)\n",
    "\n",
    "    # Fit the classifier to the data\n",
    "    fit=clf.fit(x_train, y_train)\n",
    "    \n",
    "    #predictions on the test data\n",
    "    y_pre = fit.predict(x_test)\n",
    "\n",
    "    cm = confusion_matrix(y_test, y_pre)\n",
    "    print \"Confusion matrix: \"\n",
    "    print cm\n",
    "    \n",
    "    #display classification report\n",
    "    print \"Classification report: \"\n",
    "    print classification_report(y_test, y_pre)\n",
    "    \n",
    "    #check accuracy and classification error rate of our model on the test data\n",
    "    print \"Accuracy: {:.5f}%\".format(clf.score(x_test, y_test)*100)\n",
    "    print \"Classification error rate: {:.5f}%\".format(100 - clf.score(x_test, y_test)*100)\n",
    "    \n",
    "    #export Visualization file:\n",
    "    with open(\"bank_tree-{}.dot\".format(test_size), 'w') as dot_data:\n",
    "        dot_data = tree.export_graphviz(clf, out_file=dot_data,\n",
    "            feature_names=feat_col,\n",
    "            rounded=True, special_characters=True, filled=True)\n",
    "    return dot_data\n",
    "    "
   ]
  },
  {
   "cell_type": "markdown",
   "metadata": {},
   "source": [
    "#### Using optimized parameters generated by GridResearchSCV"
   ]
  },
  {
   "cell_type": "code",
   "execution_count": 83,
   "metadata": {},
   "outputs": [],
   "source": [
    "import time\n",
    "from sklearn.model_selection import GridSearchCV\n",
    "\n",
    "#define function to optimize parameter using GridSearchCV\n",
    "def dTreeGridSCV (x, y):\n",
    "    start = time.time()\n",
    "    #create new a decision tree model\n",
    "    dTree = DecisionTreeClassifier()\n",
    "\n",
    "    #create a dictionary of all values we want to test\n",
    "    param_grid = dict(max_depth=range(3,8),\n",
    "                  min_samples_split=range(20, 80, 10),\n",
    "                  min_samples_leaf=[1, 10, 20],\n",
    "                  max_leaf_nodes=[3, 6,10]\n",
    "                     )\n",
    "\n",
    "    #use gridsearch to test all values for parameters in param_grid\n",
    "    dTree_gscv = GridSearchCV(dTree, param_grid, cv=3, verbose = 1, n_jobs = -1)\n",
    "\n",
    "    #fit model to data\n",
    "    gs_results = dTree_gscv.fit(x, y)\n",
    "    \n",
    "    #Show results\n",
    "    print(\"Best parameters: {}\".format(gs_results.best_params_))\n",
    "    print(\"Elapsed time: {:.2f} seconds\".format(time.time() - start))\n",
    "    \n",
    "    return gs_results.best_params_"
   ]
  },
  {
   "cell_type": "markdown",
   "metadata": {},
   "source": [
    "### Test_size = 50%"
   ]
  },
  {
   "cell_type": "code",
   "execution_count": 84,
   "metadata": {},
   "outputs": [
    {
     "name": "stdout",
     "output_type": "stream",
     "text": [
      "Confusion matrix: \n",
      "[[18496  1534]\n",
      " [ 1378  1198]]\n",
      "Classification report: \n",
      "              precision    recall  f1-score   support\n",
      "\n",
      "         0.0       0.93      0.92      0.93     20030\n",
      "         1.0       0.44      0.47      0.45      2576\n",
      "\n",
      "   micro avg       0.87      0.87      0.87     22606\n",
      "   macro avg       0.68      0.69      0.69     22606\n",
      "weighted avg       0.87      0.87      0.87     22606\n",
      "\n",
      "Accuracy: 87.11846%\n",
      "Classification error rate: 12.88154%\n"
     ]
    }
   ],
   "source": [
    "#Decision Tree model with test_size = 50% and default parameters\n",
    "dtree_50=decisionTree(X_train_50, X_test_50, y_train_50, y_test_50, {}, feat_col, 50)"
   ]
  },
  {
   "cell_type": "code",
   "execution_count": 85,
   "metadata": {},
   "outputs": [
    {
     "name": "stdout",
     "output_type": "stream",
     "text": [
      "Fitting 3 folds for each of 270 candidates, totalling 810 fits\n"
     ]
    },
    {
     "name": "stderr",
     "output_type": "stream",
     "text": [
      "[Parallel(n_jobs=-1)]: Using backend LokyBackend with 4 concurrent workers.\n",
      "[Parallel(n_jobs=-1)]: Done 144 tasks      | elapsed:    1.7s\n",
      "[Parallel(n_jobs=-1)]: Done 744 tasks      | elapsed:    9.0s\n"
     ]
    },
    {
     "name": "stdout",
     "output_type": "stream",
     "text": [
      "Best parameters: {'min_samples_split': 20, 'max_leaf_nodes': 10, 'max_depth': 4, 'min_samples_leaf': 1}\n",
      "Elapsed time: 9.95 seconds\n"
     ]
    },
    {
     "name": "stderr",
     "output_type": "stream",
     "text": [
      "[Parallel(n_jobs=-1)]: Done 810 out of 810 | elapsed:    9.8s finished\n"
     ]
    }
   ],
   "source": [
    "#hypertunning using GridSearchSCV\n",
    "best_dtree_params_50=dTreeGridSCV(X_train_50, y_train_50)"
   ]
  },
  {
   "cell_type": "code",
   "execution_count": 86,
   "metadata": {},
   "outputs": [
    {
     "name": "stdout",
     "output_type": "stream",
     "text": [
      "Confusion matrix: \n",
      "[[18943  1087]\n",
      " [ 1325  1251]]\n",
      "Classification report: \n",
      "              precision    recall  f1-score   support\n",
      "\n",
      "         0.0       0.93      0.95      0.94     20030\n",
      "         1.0       0.54      0.49      0.51      2576\n",
      "\n",
      "   micro avg       0.89      0.89      0.89     22606\n",
      "   macro avg       0.73      0.72      0.72     22606\n",
      "weighted avg       0.89      0.89      0.89     22606\n",
      "\n",
      "Accuracy: 89.33027%\n",
      "Classification error rate: 10.66973%\n"
     ]
    }
   ],
   "source": [
    "#Decision Tree model with test_size = 50% and optimized parameters\n",
    "new_dtree_50=decisionTree(X_train_50, X_test_50, y_train_50, y_test_50, best_dtree_params_50, feat_col, 50)"
   ]
  },
  {
   "cell_type": "markdown",
   "metadata": {},
   "source": [
    "### Test_size = 40%"
   ]
  },
  {
   "cell_type": "code",
   "execution_count": 87,
   "metadata": {},
   "outputs": [
    {
     "name": "stdout",
     "output_type": "stream",
     "text": [
      "Confusion matrix: \n",
      "[[14737  1267]\n",
      " [ 1098   983]]\n",
      "Classification report: \n",
      "              precision    recall  f1-score   support\n",
      "\n",
      "         0.0       0.93      0.92      0.93     16004\n",
      "         1.0       0.44      0.47      0.45      2081\n",
      "\n",
      "   micro avg       0.87      0.87      0.87     18085\n",
      "   macro avg       0.68      0.70      0.69     18085\n",
      "weighted avg       0.87      0.87      0.87     18085\n",
      "\n",
      "Accuracy: 86.92286%\n",
      "Classification error rate: 13.07714%\n"
     ]
    }
   ],
   "source": [
    "#Decision Tree model with test_size = 40% and default parameters\n",
    "dtree_40=decisionTree(X_train_40, X_test_40, y_train_40, y_test_40, {}, feat_col, 40)"
   ]
  },
  {
   "cell_type": "code",
   "execution_count": 88,
   "metadata": {},
   "outputs": [
    {
     "name": "stdout",
     "output_type": "stream",
     "text": [
      "Fitting 3 folds for each of 270 candidates, totalling 810 fits\n"
     ]
    },
    {
     "name": "stderr",
     "output_type": "stream",
     "text": [
      "[Parallel(n_jobs=-1)]: Using backend LokyBackend with 4 concurrent workers.\n",
      "[Parallel(n_jobs=-1)]: Done 144 tasks      | elapsed:    2.7s\n",
      "[Parallel(n_jobs=-1)]: Done 744 tasks      | elapsed:   13.3s\n"
     ]
    },
    {
     "name": "stdout",
     "output_type": "stream",
     "text": [
      "Best parameters: {'min_samples_split': 20, 'max_leaf_nodes': 10, 'max_depth': 4, 'min_samples_leaf': 1}\n",
      "Elapsed time: 14.52 seconds\n"
     ]
    },
    {
     "name": "stderr",
     "output_type": "stream",
     "text": [
      "[Parallel(n_jobs=-1)]: Done 810 out of 810 | elapsed:   14.3s finished\n"
     ]
    }
   ],
   "source": [
    "#hypertunning using GridSearchSCV\n",
    "best_dtree_params_40=dTreeGridSCV(X_train_40, y_train_40)"
   ]
  },
  {
   "cell_type": "code",
   "execution_count": 89,
   "metadata": {},
   "outputs": [
    {
     "name": "stdout",
     "output_type": "stream",
     "text": [
      "Confusion matrix: \n",
      "[[15100   904]\n",
      " [ 1072  1009]]\n",
      "Classification report: \n",
      "              precision    recall  f1-score   support\n",
      "\n",
      "         0.0       0.93      0.94      0.94     16004\n",
      "         1.0       0.53      0.48      0.51      2081\n",
      "\n",
      "   micro avg       0.89      0.89      0.89     18085\n",
      "   macro avg       0.73      0.71      0.72     18085\n",
      "weighted avg       0.89      0.89      0.89     18085\n",
      "\n",
      "Accuracy: 89.07382%\n",
      "Classification error rate: 10.92618%\n"
     ]
    }
   ],
   "source": [
    "#Decision Tree model with test_size = 40% and optimized parameters\n",
    "new_dtree_40=decisionTree(X_train_40, X_test_40, y_train_40, y_test_40, best_dtree_params_40, feat_col, 40)"
   ]
  },
  {
   "cell_type": "markdown",
   "metadata": {},
   "source": [
    "### Test_size = 20%"
   ]
  },
  {
   "cell_type": "code",
   "execution_count": 90,
   "metadata": {},
   "outputs": [
    {
     "name": "stdout",
     "output_type": "stream",
     "text": [
      "Confusion matrix: \n",
      "[[7397  615]\n",
      " [ 546  485]]\n",
      "Classification report: \n",
      "              precision    recall  f1-score   support\n",
      "\n",
      "         0.0       0.93      0.92      0.93      8012\n",
      "         1.0       0.44      0.47      0.46      1031\n",
      "\n",
      "   micro avg       0.87      0.87      0.87      9043\n",
      "   macro avg       0.69      0.70      0.69      9043\n",
      "weighted avg       0.88      0.87      0.87      9043\n",
      "\n",
      "Accuracy: 87.16134%\n",
      "Classification error rate: 12.83866%\n"
     ]
    }
   ],
   "source": [
    "#Decision Tree model with test_size = 40% and default parameters\n",
    "dtree_20=decisionTree(X_train_20, X_test_20, y_train_20, y_test_20, {}, feat_col, 20)"
   ]
  },
  {
   "cell_type": "code",
   "execution_count": 91,
   "metadata": {},
   "outputs": [
    {
     "name": "stdout",
     "output_type": "stream",
     "text": [
      "Fitting 3 folds for each of 270 candidates, totalling 810 fits\n"
     ]
    },
    {
     "name": "stderr",
     "output_type": "stream",
     "text": [
      "[Parallel(n_jobs=-1)]: Using backend LokyBackend with 4 concurrent workers.\n",
      "[Parallel(n_jobs=-1)]: Done 144 tasks      | elapsed:    2.7s\n",
      "[Parallel(n_jobs=-1)]: Done 744 tasks      | elapsed:   14.0s\n"
     ]
    },
    {
     "name": "stdout",
     "output_type": "stream",
     "text": [
      "Best parameters: {'min_samples_split': 20, 'max_leaf_nodes': 10, 'max_depth': 5, 'min_samples_leaf': 1}\n",
      "Elapsed time: 15.77 seconds\n"
     ]
    },
    {
     "name": "stderr",
     "output_type": "stream",
     "text": [
      "[Parallel(n_jobs=-1)]: Done 810 out of 810 | elapsed:   15.6s finished\n"
     ]
    }
   ],
   "source": [
    "#hypertunning using GridSearchSCV\n",
    "best_dtree_params_20=dTreeGridSCV(X_train_20, y_train_20)"
   ]
  },
  {
   "cell_type": "code",
   "execution_count": 92,
   "metadata": {},
   "outputs": [
    {
     "name": "stdout",
     "output_type": "stream",
     "text": [
      "Confusion matrix: \n",
      "[[7741  271]\n",
      " [ 665  366]]\n",
      "Classification report: \n",
      "              precision    recall  f1-score   support\n",
      "\n",
      "         0.0       0.92      0.97      0.94      8012\n",
      "         1.0       0.57      0.35      0.44      1031\n",
      "\n",
      "   micro avg       0.90      0.90      0.90      9043\n",
      "   macro avg       0.75      0.66      0.69      9043\n",
      "weighted avg       0.88      0.90      0.89      9043\n",
      "\n",
      "Accuracy: 89.64945%\n",
      "Classification error rate: 10.35055%\n"
     ]
    }
   ],
   "source": [
    "#Decision Tree model with test_size = 20% and optimized parameters\n",
    "new_dtree_20=decisionTree(X_train_20, X_test_20, y_train_20, y_test_20, best_dtree_params_20, feat_col, 20)"
   ]
  },
  {
   "cell_type": "markdown",
   "metadata": {},
   "source": [
    "## Compare"
   ]
  },
  {
   "cell_type": "code",
   "execution_count": 93,
   "metadata": {},
   "outputs": [],
   "source": [
    "from sklearn.model_selection import StratifiedKFold, cross_val_score\n",
    "from sklearn.svm import SVC"
   ]
  },
  {
   "cell_type": "code",
   "execution_count": 94,
   "metadata": {},
   "outputs": [],
   "source": [
    "classifiers = []\n",
    "#as we observe that both two models obtained best accuracy score in test_size = 20%\n",
    "classifiers.append(('K-Nearest Neighbors',KNeighborsClassifier(**best_params_20)))\n",
    "classifiers.append(('Decision Tree', DecisionTreeClassifier(**best_dtree_params_20)))"
   ]
  },
  {
   "cell_type": "code",
   "execution_count": 95,
   "metadata": {},
   "outputs": [],
   "source": [
    "kfold = StratifiedKFold(n_splits=10, random_state=4)\n",
    "cv_results = []\n",
    "for name, classifier in classifiers:\n",
    "    result = cross_val_score(classifier, X_train_20, y_train_20, cv=kfold);\n",
    "    cv_results.append((name, result));"
   ]
  },
  {
   "cell_type": "code",
   "execution_count": 96,
   "metadata": {},
   "outputs": [],
   "source": [
    "results = pd.DataFrame(cv_results, columns=['classifier','cvscore'])\n",
    "results['cvscore'] = [np.mean(i) for i in results['cvscore']]"
   ]
  },
  {
   "cell_type": "code",
   "execution_count": 97,
   "metadata": {},
   "outputs": [
    {
     "data": {
      "text/html": [
       "<div>\n",
       "<style scoped>\n",
       "    .dataframe tbody tr th:only-of-type {\n",
       "        vertical-align: middle;\n",
       "    }\n",
       "\n",
       "    .dataframe tbody tr th {\n",
       "        vertical-align: top;\n",
       "    }\n",
       "\n",
       "    .dataframe thead th {\n",
       "        text-align: right;\n",
       "    }\n",
       "</style>\n",
       "<table border=\"1\" class=\"dataframe\">\n",
       "  <thead>\n",
       "    <tr style=\"text-align: right;\">\n",
       "      <th></th>\n",
       "      <th>classifier</th>\n",
       "      <th>cvscore</th>\n",
       "    </tr>\n",
       "  </thead>\n",
       "  <tbody>\n",
       "    <tr>\n",
       "      <th>0</th>\n",
       "      <td>K-Nearest Neighbors</td>\n",
       "      <td>0.895764</td>\n",
       "    </tr>\n",
       "    <tr>\n",
       "      <th>1</th>\n",
       "      <td>Decision Tree</td>\n",
       "      <td>0.895847</td>\n",
       "    </tr>\n",
       "  </tbody>\n",
       "</table>\n",
       "</div>"
      ],
      "text/plain": [
       "            classifier   cvscore\n",
       "0  K-Nearest Neighbors  0.895764\n",
       "1        Decision Tree  0.895847"
      ]
     },
     "execution_count": 97,
     "metadata": {},
     "output_type": "execute_result"
    }
   ],
   "source": [
    "results"
   ]
  },
  {
   "cell_type": "code",
   "execution_count": 98,
   "metadata": {},
   "outputs": [
    {
     "data": {
      "image/png": "[encoded data removed]",
      "text/plain": [
       "<Figure size 432x288 with 1 Axes>"
      ]
     },
     "metadata": {},
     "output_type": "display_data"
    }
   ],
   "source": [
    "sns.set_style('whitegrid')\n",
    "ax = sns.barplot(x='cvscore',y='classifier', data=results.sort_values('cvscore'), palette='Blues_d')\n",
    "ax.set(xlabel='Cross Validation Score', ylabel='');"
   ]
  },
  {
   "cell_type": "code",
   "execution_count": 99,
   "metadata": {},
   "outputs": [
    {
     "name": "stdout",
     "output_type": "stream",
     "text": [
      "The best performing model is: Decision Tree\n",
      "With Cross-Validation Score of: 0.90\n"
     ]
    }
   ],
   "source": [
    "print('The best performing model is: %s\\nWith Cross-Validation Score of: %.2f' % (results.iloc[results['cvscore'].idxmax()][0], results.iloc[results['cvscore'].idxmax()][1]))"
   ]
  },
  {
   "cell_type": "code",
   "execution_count": null,
   "metadata": {},
   "outputs": [],
   "source": []
  },
  {
   "cell_type": "code",
   "execution_count": null,
   "metadata": {},
   "outputs": [],
   "source": []
  },
  {
   "cell_type": "code",
   "execution_count": null,
   "metadata": {},
   "outputs": [],
   "source": []
  }
 ],
 "metadata": {
  "kernelspec": {
   "display_name": "Python 3",
   "language": "python",
   "name": "python3"
  },
  "language_info": {
   "codemirror_mode": {
    "name": "ipython",
    "version": 3
   },
   "file_extension": ".py",
   "mimetype": "text/x-python",
   "name": "python",
   "nbconvert_exporter": "python",
   "pygments_lexer": "ipython3",
   "version": "3.8.3"
  }
 },
 "nbformat": 4,
 "nbformat_minor": 2
}
